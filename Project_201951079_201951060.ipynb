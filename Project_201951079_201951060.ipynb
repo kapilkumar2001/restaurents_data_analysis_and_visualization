{
 "cells": [
  {
   "cell_type": "code",
   "execution_count": 91,
   "metadata": {},
   "outputs": [],
   "source": [
    "import pandas as pd\n",
    "import numpy as np \n",
    "import seaborn as sns\n",
    "import matplotlib.pyplot as plt\n",
    "from statsmodels.graphics.gofplots import qqplot\n",
    "import math\n",
    "import statsmodels.api as sm\n",
    "import pylab as py\n",
    "from scipy import stats\n",
    "\n"
   ]
  },
  {
   "cell_type": "code",
   "execution_count": 3,
   "metadata": {},
   "outputs": [
    {
     "data": {
      "text/html": [
       "<div>\n",
       "<style scoped>\n",
       "    .dataframe tbody tr th:only-of-type {\n",
       "        vertical-align: middle;\n",
       "    }\n",
       "\n",
       "    .dataframe tbody tr th {\n",
       "        vertical-align: top;\n",
       "    }\n",
       "\n",
       "    .dataframe thead th {\n",
       "        text-align: right;\n",
       "    }\n",
       "</style>\n",
       "<table border=\"1\" class=\"dataframe\">\n",
       "  <thead>\n",
       "    <tr style=\"text-align: right;\">\n",
       "      <th></th>\n",
       "      <th>Restaurant ID</th>\n",
       "      <th>Restaurant Name</th>\n",
       "      <th>Country Code</th>\n",
       "      <th>City</th>\n",
       "      <th>Address</th>\n",
       "      <th>Locality</th>\n",
       "      <th>Locality Verbose</th>\n",
       "      <th>Longitude</th>\n",
       "      <th>Latitude</th>\n",
       "      <th>Cuisines</th>\n",
       "      <th>...</th>\n",
       "      <th>Currency</th>\n",
       "      <th>Has Table booking</th>\n",
       "      <th>Has Online delivery</th>\n",
       "      <th>Is delivering now</th>\n",
       "      <th>Switch to order menu</th>\n",
       "      <th>Price range</th>\n",
       "      <th>Aggregate rating</th>\n",
       "      <th>Rating color</th>\n",
       "      <th>Rating text</th>\n",
       "      <th>Votes</th>\n",
       "    </tr>\n",
       "  </thead>\n",
       "  <tbody>\n",
       "    <tr>\n",
       "      <th>0</th>\n",
       "      <td>6317637</td>\n",
       "      <td>Le Petit Souffle</td>\n",
       "      <td>162</td>\n",
       "      <td>Makati City</td>\n",
       "      <td>Third Floor, Century City Mall, Kalayaan Avenu...</td>\n",
       "      <td>Century City Mall, Poblacion, Makati City</td>\n",
       "      <td>Century City Mall, Poblacion, Makati City, Mak...</td>\n",
       "      <td>121.027535</td>\n",
       "      <td>14.565443</td>\n",
       "      <td>French, Japanese, Desserts</td>\n",
       "      <td>...</td>\n",
       "      <td>Botswana Pula(P)</td>\n",
       "      <td>Yes</td>\n",
       "      <td>No</td>\n",
       "      <td>No</td>\n",
       "      <td>No</td>\n",
       "      <td>3</td>\n",
       "      <td>4.8</td>\n",
       "      <td>Dark Green</td>\n",
       "      <td>Excellent</td>\n",
       "      <td>314</td>\n",
       "    </tr>\n",
       "    <tr>\n",
       "      <th>1</th>\n",
       "      <td>6304287</td>\n",
       "      <td>Izakaya Kikufuji</td>\n",
       "      <td>162</td>\n",
       "      <td>Makati City</td>\n",
       "      <td>Little Tokyo, 2277 Chino Roces Avenue, Legaspi...</td>\n",
       "      <td>Little Tokyo, Legaspi Village, Makati City</td>\n",
       "      <td>Little Tokyo, Legaspi Village, Makati City, Ma...</td>\n",
       "      <td>121.014101</td>\n",
       "      <td>14.553708</td>\n",
       "      <td>Japanese</td>\n",
       "      <td>...</td>\n",
       "      <td>Botswana Pula(P)</td>\n",
       "      <td>Yes</td>\n",
       "      <td>No</td>\n",
       "      <td>No</td>\n",
       "      <td>No</td>\n",
       "      <td>3</td>\n",
       "      <td>4.5</td>\n",
       "      <td>Dark Green</td>\n",
       "      <td>Excellent</td>\n",
       "      <td>591</td>\n",
       "    </tr>\n",
       "    <tr>\n",
       "      <th>2</th>\n",
       "      <td>6300002</td>\n",
       "      <td>Heat - Edsa Shangri-La</td>\n",
       "      <td>162</td>\n",
       "      <td>Mandaluyong City</td>\n",
       "      <td>Edsa Shangri-La, 1 Garden Way, Ortigas, Mandal...</td>\n",
       "      <td>Edsa Shangri-La, Ortigas, Mandaluyong City</td>\n",
       "      <td>Edsa Shangri-La, Ortigas, Mandaluyong City, Ma...</td>\n",
       "      <td>121.056831</td>\n",
       "      <td>14.581404</td>\n",
       "      <td>Seafood, Asian, Filipino, Indian</td>\n",
       "      <td>...</td>\n",
       "      <td>Botswana Pula(P)</td>\n",
       "      <td>Yes</td>\n",
       "      <td>No</td>\n",
       "      <td>No</td>\n",
       "      <td>No</td>\n",
       "      <td>4</td>\n",
       "      <td>4.4</td>\n",
       "      <td>Green</td>\n",
       "      <td>Very Good</td>\n",
       "      <td>270</td>\n",
       "    </tr>\n",
       "    <tr>\n",
       "      <th>3</th>\n",
       "      <td>6318506</td>\n",
       "      <td>Ooma</td>\n",
       "      <td>162</td>\n",
       "      <td>Mandaluyong City</td>\n",
       "      <td>Third Floor, Mega Fashion Hall, SM Megamall, O...</td>\n",
       "      <td>SM Megamall, Ortigas, Mandaluyong City</td>\n",
       "      <td>SM Megamall, Ortigas, Mandaluyong City, Mandal...</td>\n",
       "      <td>121.056475</td>\n",
       "      <td>14.585318</td>\n",
       "      <td>Japanese, Sushi</td>\n",
       "      <td>...</td>\n",
       "      <td>Botswana Pula(P)</td>\n",
       "      <td>No</td>\n",
       "      <td>No</td>\n",
       "      <td>No</td>\n",
       "      <td>No</td>\n",
       "      <td>4</td>\n",
       "      <td>4.9</td>\n",
       "      <td>Dark Green</td>\n",
       "      <td>Excellent</td>\n",
       "      <td>365</td>\n",
       "    </tr>\n",
       "    <tr>\n",
       "      <th>4</th>\n",
       "      <td>6314302</td>\n",
       "      <td>Sambo Kojin</td>\n",
       "      <td>162</td>\n",
       "      <td>Mandaluyong City</td>\n",
       "      <td>Third Floor, Mega Atrium, SM Megamall, Ortigas...</td>\n",
       "      <td>SM Megamall, Ortigas, Mandaluyong City</td>\n",
       "      <td>SM Megamall, Ortigas, Mandaluyong City, Mandal...</td>\n",
       "      <td>121.057508</td>\n",
       "      <td>14.584450</td>\n",
       "      <td>Japanese, Korean</td>\n",
       "      <td>...</td>\n",
       "      <td>Botswana Pula(P)</td>\n",
       "      <td>Yes</td>\n",
       "      <td>No</td>\n",
       "      <td>No</td>\n",
       "      <td>No</td>\n",
       "      <td>4</td>\n",
       "      <td>4.8</td>\n",
       "      <td>Dark Green</td>\n",
       "      <td>Excellent</td>\n",
       "      <td>229</td>\n",
       "    </tr>\n",
       "  </tbody>\n",
       "</table>\n",
       "<p>5 rows × 21 columns</p>\n",
       "</div>"
      ],
      "text/plain": [
       "   Restaurant ID         Restaurant Name  Country Code              City  \\\n",
       "0        6317637        Le Petit Souffle           162       Makati City   \n",
       "1        6304287        Izakaya Kikufuji           162       Makati City   \n",
       "2        6300002  Heat - Edsa Shangri-La           162  Mandaluyong City   \n",
       "3        6318506                    Ooma           162  Mandaluyong City   \n",
       "4        6314302             Sambo Kojin           162  Mandaluyong City   \n",
       "\n",
       "                                             Address  \\\n",
       "0  Third Floor, Century City Mall, Kalayaan Avenu...   \n",
       "1  Little Tokyo, 2277 Chino Roces Avenue, Legaspi...   \n",
       "2  Edsa Shangri-La, 1 Garden Way, Ortigas, Mandal...   \n",
       "3  Third Floor, Mega Fashion Hall, SM Megamall, O...   \n",
       "4  Third Floor, Mega Atrium, SM Megamall, Ortigas...   \n",
       "\n",
       "                                     Locality  \\\n",
       "0   Century City Mall, Poblacion, Makati City   \n",
       "1  Little Tokyo, Legaspi Village, Makati City   \n",
       "2  Edsa Shangri-La, Ortigas, Mandaluyong City   \n",
       "3      SM Megamall, Ortigas, Mandaluyong City   \n",
       "4      SM Megamall, Ortigas, Mandaluyong City   \n",
       "\n",
       "                                    Locality Verbose   Longitude   Latitude  \\\n",
       "0  Century City Mall, Poblacion, Makati City, Mak...  121.027535  14.565443   \n",
       "1  Little Tokyo, Legaspi Village, Makati City, Ma...  121.014101  14.553708   \n",
       "2  Edsa Shangri-La, Ortigas, Mandaluyong City, Ma...  121.056831  14.581404   \n",
       "3  SM Megamall, Ortigas, Mandaluyong City, Mandal...  121.056475  14.585318   \n",
       "4  SM Megamall, Ortigas, Mandaluyong City, Mandal...  121.057508  14.584450   \n",
       "\n",
       "                           Cuisines  ...          Currency Has Table booking  \\\n",
       "0        French, Japanese, Desserts  ...  Botswana Pula(P)               Yes   \n",
       "1                          Japanese  ...  Botswana Pula(P)               Yes   \n",
       "2  Seafood, Asian, Filipino, Indian  ...  Botswana Pula(P)               Yes   \n",
       "3                   Japanese, Sushi  ...  Botswana Pula(P)                No   \n",
       "4                  Japanese, Korean  ...  Botswana Pula(P)               Yes   \n",
       "\n",
       "  Has Online delivery Is delivering now Switch to order menu Price range  \\\n",
       "0                  No                No                   No           3   \n",
       "1                  No                No                   No           3   \n",
       "2                  No                No                   No           4   \n",
       "3                  No                No                   No           4   \n",
       "4                  No                No                   No           4   \n",
       "\n",
       "   Aggregate rating  Rating color Rating text Votes  \n",
       "0               4.8    Dark Green   Excellent   314  \n",
       "1               4.5    Dark Green   Excellent   591  \n",
       "2               4.4         Green   Very Good   270  \n",
       "3               4.9    Dark Green   Excellent   365  \n",
       "4               4.8    Dark Green   Excellent   229  \n",
       "\n",
       "[5 rows x 21 columns]"
      ]
     },
     "execution_count": 3,
     "metadata": {},
     "output_type": "execute_result"
    }
   ],
   "source": [
    "restaurents_data = pd.read_csv(\"zomato.csv\")\n",
    "restaurents_data.head()\n"
   ]
  },
  {
   "cell_type": "code",
   "execution_count": 4,
   "metadata": {},
   "outputs": [
    {
     "data": {
      "text/html": [
       "<div>\n",
       "<style scoped>\n",
       "    .dataframe tbody tr th:only-of-type {\n",
       "        vertical-align: middle;\n",
       "    }\n",
       "\n",
       "    .dataframe tbody tr th {\n",
       "        vertical-align: top;\n",
       "    }\n",
       "\n",
       "    .dataframe thead th {\n",
       "        text-align: right;\n",
       "    }\n",
       "</style>\n",
       "<table border=\"1\" class=\"dataframe\">\n",
       "  <thead>\n",
       "    <tr style=\"text-align: right;\">\n",
       "      <th></th>\n",
       "      <th>Aggregate rating</th>\n",
       "      <th>Votes</th>\n",
       "    </tr>\n",
       "    <tr>\n",
       "      <th>City</th>\n",
       "      <th></th>\n",
       "      <th></th>\n",
       "    </tr>\n",
       "  </thead>\n",
       "  <tbody>\n",
       "    <tr>\n",
       "      <th>Abu Dhabi</th>\n",
       "      <td>86.0</td>\n",
       "      <td>6045</td>\n",
       "    </tr>\n",
       "    <tr>\n",
       "      <th>Agra</th>\n",
       "      <td>79.3</td>\n",
       "      <td>2062</td>\n",
       "    </tr>\n",
       "    <tr>\n",
       "      <th>Ahmedabad</th>\n",
       "      <td>87.4</td>\n",
       "      <td>12266</td>\n",
       "    </tr>\n",
       "    <tr>\n",
       "      <th>Albany</th>\n",
       "      <td>71.1</td>\n",
       "      <td>1676</td>\n",
       "    </tr>\n",
       "    <tr>\n",
       "      <th>Allahabad</th>\n",
       "      <td>67.9</td>\n",
       "      <td>1392</td>\n",
       "    </tr>\n",
       "    <tr>\n",
       "      <th>...</th>\n",
       "      <td>...</td>\n",
       "      <td>...</td>\n",
       "    </tr>\n",
       "    <tr>\n",
       "      <th>Weirton</th>\n",
       "      <td>3.9</td>\n",
       "      <td>156</td>\n",
       "    </tr>\n",
       "    <tr>\n",
       "      <th>Wellington City</th>\n",
       "      <td>85.0</td>\n",
       "      <td>2926</td>\n",
       "    </tr>\n",
       "    <tr>\n",
       "      <th>Winchester Bay</th>\n",
       "      <td>3.2</td>\n",
       "      <td>16</td>\n",
       "    </tr>\n",
       "    <tr>\n",
       "      <th>Yorkton</th>\n",
       "      <td>3.3</td>\n",
       "      <td>26</td>\n",
       "    </tr>\n",
       "    <tr>\n",
       "      <th>stanbul</th>\n",
       "      <td>60.1</td>\n",
       "      <td>12043</td>\n",
       "    </tr>\n",
       "  </tbody>\n",
       "</table>\n",
       "<p>141 rows × 2 columns</p>\n",
       "</div>"
      ],
      "text/plain": [
       "                 Aggregate rating  Votes\n",
       "City                                    \n",
       "Abu Dhabi                    86.0   6045\n",
       "Agra                         79.3   2062\n",
       "Ahmedabad                    87.4  12266\n",
       "Albany                       71.1   1676\n",
       "Allahabad                    67.9   1392\n",
       "...                           ...    ...\n",
       "Weirton                       3.9    156\n",
       "Wellington City              85.0   2926\n",
       "Winchester Bay                3.2     16\n",
       "Yorkton                       3.3     26\n",
       "stanbul                      60.1  12043\n",
       "\n",
       "[141 rows x 2 columns]"
      ]
     },
     "execution_count": 4,
     "metadata": {},
     "output_type": "execute_result"
    }
   ],
   "source": [
    "df_citywise = restaurents_data[['Aggregate rating','Votes']].groupby(restaurents_data.City).sum()\n",
    "df_citywise"
   ]
  },
  {
   "cell_type": "code",
   "execution_count": 5,
   "metadata": {},
   "outputs": [
    {
     "name": "stdout",
     "output_type": "stream",
     "text": [
      "<class 'pandas.core.frame.DataFrame'>\n",
      "RangeIndex: 9551 entries, 0 to 9550\n",
      "Data columns (total 21 columns):\n",
      " #   Column                Non-Null Count  Dtype  \n",
      "---  ------                --------------  -----  \n",
      " 0   Restaurant ID         9551 non-null   int64  \n",
      " 1   Restaurant Name       9551 non-null   object \n",
      " 2   Country Code          9551 non-null   int64  \n",
      " 3   City                  9551 non-null   object \n",
      " 4   Address               9551 non-null   object \n",
      " 5   Locality              9551 non-null   object \n",
      " 6   Locality Verbose      9551 non-null   object \n",
      " 7   Longitude             9551 non-null   float64\n",
      " 8   Latitude              9551 non-null   float64\n",
      " 9   Cuisines              9542 non-null   object \n",
      " 10  Average Cost for two  9551 non-null   int64  \n",
      " 11  Currency              9551 non-null   object \n",
      " 12  Has Table booking     9551 non-null   object \n",
      " 13  Has Online delivery   9551 non-null   object \n",
      " 14  Is delivering now     9551 non-null   object \n",
      " 15  Switch to order menu  9551 non-null   object \n",
      " 16  Price range           9551 non-null   int64  \n",
      " 17  Aggregate rating      9551 non-null   float64\n",
      " 18  Rating color          9551 non-null   object \n",
      " 19  Rating text           9551 non-null   object \n",
      " 20  Votes                 9551 non-null   int64  \n",
      "dtypes: float64(3), int64(5), object(13)\n",
      "memory usage: 1.5+ MB\n"
     ]
    }
   ],
   "source": [
    "restaurents_data.info()"
   ]
  },
  {
   "cell_type": "code",
   "execution_count": 6,
   "metadata": {},
   "outputs": [],
   "source": [
    "# restaurents_basic_data = restaurents_data[['Restaurant ID', 'Restaurant Name', 'City','Address', 'Locality', 'Longitude', 'Latitude', 'Aggregate rating', 'Rating text','Votes']].copy()\n",
    "# restaurents_basic_data"
   ]
  },
  {
   "cell_type": "code",
   "execution_count": 7,
   "metadata": {},
   "outputs": [],
   "source": [
    "# restaurents_important_data = restaurents_data[['Restaurant ID', 'Restaurant Name', 'Cuisines','Average Cost for two','Has Table booking', 'Has Online delivery', 'Is delivering now', 'Switch to order menu', 'Price range','Aggregate rating', 'Votes']].copy()\n",
    "# restaurents_important_data"
   ]
  },
  {
   "cell_type": "code",
   "execution_count": 8,
   "metadata": {},
   "outputs": [],
   "source": [
    "restaurents_data['Has Table booking'].replace({\"No\": 0, \"Yes\": 1}, inplace=True)"
   ]
  },
  {
   "cell_type": "code",
   "execution_count": 9,
   "metadata": {},
   "outputs": [],
   "source": [
    "restaurents_data['Has Online delivery'].replace({\"No\": 0, \"Yes\": 1}, inplace=True)"
   ]
  },
  {
   "cell_type": "code",
   "execution_count": 10,
   "metadata": {},
   "outputs": [],
   "source": [
    "restaurents_data['Is delivering now'].replace({\"No\": 0, \"Yes\": 1}, inplace=True)"
   ]
  },
  {
   "cell_type": "code",
   "execution_count": 11,
   "metadata": {},
   "outputs": [],
   "source": [
    "restaurents_data['Switch to order menu'].replace({\"No\": 0, \"Yes\": 1}, inplace=True)"
   ]
  },
  {
   "cell_type": "code",
   "execution_count": 12,
   "metadata": {},
   "outputs": [],
   "source": [
    "restaurents_data_city_wise = restaurents_data[['Has Table booking', 'Has Online delivery', 'Is delivering now', 'Switch to order menu', 'City']].groupby(restaurents_data.City, as_index=True).sum()"
   ]
  },
  {
   "cell_type": "code",
   "execution_count": 13,
   "metadata": {},
   "outputs": [],
   "source": [
    "city_new = restaurents_data['City']\n",
    "city_n = city_new.drop_duplicates().sort_values()\n",
    "city_n = city_n.reset_index()\n",
    "\n",
    "ccity = city_n['City'].values "
   ]
  },
  {
   "cell_type": "code",
   "execution_count": 14,
   "metadata": {},
   "outputs": [
    {
     "data": {
      "text/html": [
       "<div>\n",
       "<style scoped>\n",
       "    .dataframe tbody tr th:only-of-type {\n",
       "        vertical-align: middle;\n",
       "    }\n",
       "\n",
       "    .dataframe tbody tr th {\n",
       "        vertical-align: top;\n",
       "    }\n",
       "\n",
       "    .dataframe thead th {\n",
       "        text-align: right;\n",
       "    }\n",
       "</style>\n",
       "<table border=\"1\" class=\"dataframe\">\n",
       "  <thead>\n",
       "    <tr style=\"text-align: right;\">\n",
       "      <th></th>\n",
       "      <th>Has Table booking</th>\n",
       "      <th>Has Online delivery</th>\n",
       "      <th>Is delivering now</th>\n",
       "      <th>Switch to order menu</th>\n",
       "      <th>City</th>\n",
       "    </tr>\n",
       "    <tr>\n",
       "      <th>City</th>\n",
       "      <th></th>\n",
       "      <th></th>\n",
       "      <th></th>\n",
       "      <th></th>\n",
       "      <th></th>\n",
       "    </tr>\n",
       "  </thead>\n",
       "  <tbody>\n",
       "    <tr>\n",
       "      <th>Abu Dhabi</th>\n",
       "      <td>6</td>\n",
       "      <td>11</td>\n",
       "      <td>0</td>\n",
       "      <td>0</td>\n",
       "      <td>Abu Dhabi</td>\n",
       "    </tr>\n",
       "    <tr>\n",
       "      <th>Agra</th>\n",
       "      <td>0</td>\n",
       "      <td>0</td>\n",
       "      <td>0</td>\n",
       "      <td>0</td>\n",
       "      <td>Agra</td>\n",
       "    </tr>\n",
       "    <tr>\n",
       "      <th>Ahmedabad</th>\n",
       "      <td>0</td>\n",
       "      <td>11</td>\n",
       "      <td>0</td>\n",
       "      <td>0</td>\n",
       "      <td>Ahmedabad</td>\n",
       "    </tr>\n",
       "    <tr>\n",
       "      <th>Albany</th>\n",
       "      <td>0</td>\n",
       "      <td>0</td>\n",
       "      <td>0</td>\n",
       "      <td>0</td>\n",
       "      <td>Albany</td>\n",
       "    </tr>\n",
       "    <tr>\n",
       "      <th>Allahabad</th>\n",
       "      <td>0</td>\n",
       "      <td>0</td>\n",
       "      <td>0</td>\n",
       "      <td>0</td>\n",
       "      <td>Allahabad</td>\n",
       "    </tr>\n",
       "    <tr>\n",
       "      <th>...</th>\n",
       "      <td>...</td>\n",
       "      <td>...</td>\n",
       "      <td>...</td>\n",
       "      <td>...</td>\n",
       "      <td>...</td>\n",
       "    </tr>\n",
       "    <tr>\n",
       "      <th>Weirton</th>\n",
       "      <td>0</td>\n",
       "      <td>0</td>\n",
       "      <td>0</td>\n",
       "      <td>0</td>\n",
       "      <td>Weirton</td>\n",
       "    </tr>\n",
       "    <tr>\n",
       "      <th>Wellington City</th>\n",
       "      <td>0</td>\n",
       "      <td>0</td>\n",
       "      <td>0</td>\n",
       "      <td>0</td>\n",
       "      <td>Wellington City</td>\n",
       "    </tr>\n",
       "    <tr>\n",
       "      <th>Winchester Bay</th>\n",
       "      <td>0</td>\n",
       "      <td>0</td>\n",
       "      <td>0</td>\n",
       "      <td>0</td>\n",
       "      <td>Winchester Bay</td>\n",
       "    </tr>\n",
       "    <tr>\n",
       "      <th>Yorkton</th>\n",
       "      <td>0</td>\n",
       "      <td>0</td>\n",
       "      <td>0</td>\n",
       "      <td>0</td>\n",
       "      <td>Yorkton</td>\n",
       "    </tr>\n",
       "    <tr>\n",
       "      <th>stanbul</th>\n",
       "      <td>0</td>\n",
       "      <td>0</td>\n",
       "      <td>0</td>\n",
       "      <td>0</td>\n",
       "      <td>stanbul</td>\n",
       "    </tr>\n",
       "  </tbody>\n",
       "</table>\n",
       "<p>141 rows × 5 columns</p>\n",
       "</div>"
      ],
      "text/plain": [
       "                 Has Table booking  Has Online delivery  Is delivering now  \\\n",
       "City                                                                         \n",
       "Abu Dhabi                        6                   11                  0   \n",
       "Agra                             0                    0                  0   \n",
       "Ahmedabad                        0                   11                  0   \n",
       "Albany                           0                    0                  0   \n",
       "Allahabad                        0                    0                  0   \n",
       "...                            ...                  ...                ...   \n",
       "Weirton                          0                    0                  0   \n",
       "Wellington City                  0                    0                  0   \n",
       "Winchester Bay                   0                    0                  0   \n",
       "Yorkton                          0                    0                  0   \n",
       "stanbul                          0                    0                  0   \n",
       "\n",
       "                 Switch to order menu             City  \n",
       "City                                                    \n",
       "Abu Dhabi                           0        Abu Dhabi  \n",
       "Agra                                0             Agra  \n",
       "Ahmedabad                           0        Ahmedabad  \n",
       "Albany                              0           Albany  \n",
       "Allahabad                           0        Allahabad  \n",
       "...                               ...              ...  \n",
       "Weirton                             0          Weirton  \n",
       "Wellington City                     0  Wellington City  \n",
       "Winchester Bay                      0   Winchester Bay  \n",
       "Yorkton                             0          Yorkton  \n",
       "stanbul                             0          stanbul  \n",
       "\n",
       "[141 rows x 5 columns]"
      ]
     },
     "execution_count": 14,
     "metadata": {},
     "output_type": "execute_result"
    }
   ],
   "source": [
    "restaurents_data_city_wise['City'] = ccity\n",
    "restaurents_data_city_wise "
   ]
  },
  {
   "cell_type": "code",
   "execution_count": 15,
   "metadata": {},
   "outputs": [
    {
     "data": {
      "image/png": "[encoded data removed]",
      "text/plain": [
       "<Figure size 2160x720 with 1 Axes>"
      ]
     },
     "metadata": {
      "needs_background": "light"
     },
     "output_type": "display_data"
    }
   ],
   "source": [
    "x = restaurents_data_city_wise['City']\n",
    "x1 = restaurents_data_city_wise['Has Table booking']\n",
    "x2 = restaurents_data_city_wise['Has Online delivery']\n",
    "x3 = restaurents_data_city_wise['Is delivering now']\n",
    "x4 = restaurents_data_city_wise['Switch to order menu']\n",
    "\n",
    "X_axis = np.arange(len(x)) \n",
    "plt.subplots(figsize=(30,10))\n",
    "plt.bar(X_axis - 0.3, x1, 0.2, label = 'Table booking')\n",
    "plt.bar(X_axis - 0.1, x2, 0.2, label = 'Online delivery')\n",
    "plt.bar(X_axis + 0.1, x3, 0.2, label = 'delivering now')\n",
    "plt.bar(X_axis + 0.3, x4, 0.2, label = 'Switch to order menu')\n",
    "\n",
    "plt.xticks(X_axis,x)\n",
    "plt.ylabel(\"count of services\")\n",
    "plt.xlabel(\"city\")\n",
    "\n",
    "plt.legend()\n",
    "plt.show()"
   ]
  },
  {
   "cell_type": "code",
   "execution_count": 16,
   "metadata": {},
   "outputs": [],
   "source": [
    "restaurents_data_currency_wise = restaurents_data[['Has Table booking', 'Has Online delivery', 'Is delivering now', 'Switch to order menu']].groupby(restaurents_data.Currency, as_index=True).sum()\n"
   ]
  },
  {
   "cell_type": "code",
   "execution_count": 17,
   "metadata": {},
   "outputs": [],
   "source": [
    "\n",
    "currency_new = restaurents_data['Currency']\n",
    "currency_n = currency_new.drop_duplicates().sort_values()\n",
    "currency_n = currency_n.reset_index()\n",
    "ccurrency = currency_n['Currency'].values\n"
   ]
  },
  {
   "cell_type": "code",
   "execution_count": 18,
   "metadata": {},
   "outputs": [
    {
     "data": {
      "text/html": [
       "<div>\n",
       "<style scoped>\n",
       "    .dataframe tbody tr th:only-of-type {\n",
       "        vertical-align: middle;\n",
       "    }\n",
       "\n",
       "    .dataframe tbody tr th {\n",
       "        vertical-align: top;\n",
       "    }\n",
       "\n",
       "    .dataframe thead th {\n",
       "        text-align: right;\n",
       "    }\n",
       "</style>\n",
       "<table border=\"1\" class=\"dataframe\">\n",
       "  <thead>\n",
       "    <tr style=\"text-align: right;\">\n",
       "      <th></th>\n",
       "      <th>Has Table booking</th>\n",
       "      <th>Has Online delivery</th>\n",
       "      <th>Is delivering now</th>\n",
       "      <th>Switch to order menu</th>\n",
       "      <th>Currency</th>\n",
       "    </tr>\n",
       "    <tr>\n",
       "      <th>Currency</th>\n",
       "      <th></th>\n",
       "      <th></th>\n",
       "      <th></th>\n",
       "      <th></th>\n",
       "      <th></th>\n",
       "    </tr>\n",
       "  </thead>\n",
       "  <tbody>\n",
       "    <tr>\n",
       "      <th>Botswana Pula(P)</th>\n",
       "      <td>14</td>\n",
       "      <td>0</td>\n",
       "      <td>0</td>\n",
       "      <td>0</td>\n",
       "      <td>Botswana Pula(P)</td>\n",
       "    </tr>\n",
       "    <tr>\n",
       "      <th>Brazilian Real(R$)</th>\n",
       "      <td>0</td>\n",
       "      <td>0</td>\n",
       "      <td>0</td>\n",
       "      <td>0</td>\n",
       "      <td>Brazilian Real(R$)</td>\n",
       "    </tr>\n",
       "    <tr>\n",
       "      <th>Dollar($)</th>\n",
       "      <td>0</td>\n",
       "      <td>0</td>\n",
       "      <td>0</td>\n",
       "      <td>0</td>\n",
       "      <td>Dollar($)</td>\n",
       "    </tr>\n",
       "    <tr>\n",
       "      <th>Emirati Diram(AED)</th>\n",
       "      <td>18</td>\n",
       "      <td>28</td>\n",
       "      <td>0</td>\n",
       "      <td>0</td>\n",
       "      <td>Emirati Diram(AED)</td>\n",
       "    </tr>\n",
       "    <tr>\n",
       "      <th>Indian Rupees(Rs.)</th>\n",
       "      <td>1111</td>\n",
       "      <td>2423</td>\n",
       "      <td>34</td>\n",
       "      <td>0</td>\n",
       "      <td>Indian Rupees(Rs.)</td>\n",
       "    </tr>\n",
       "    <tr>\n",
       "      <th>Indonesian Rupiah(IDR)</th>\n",
       "      <td>0</td>\n",
       "      <td>0</td>\n",
       "      <td>0</td>\n",
       "      <td>0</td>\n",
       "      <td>Indonesian Rupiah(IDR)</td>\n",
       "    </tr>\n",
       "    <tr>\n",
       "      <th>NewZealand($)</th>\n",
       "      <td>0</td>\n",
       "      <td>0</td>\n",
       "      <td>0</td>\n",
       "      <td>0</td>\n",
       "      <td>NewZealand($)</td>\n",
       "    </tr>\n",
       "    <tr>\n",
       "      <th>Pounds()</th>\n",
       "      <td>12</td>\n",
       "      <td>0</td>\n",
       "      <td>0</td>\n",
       "      <td>0</td>\n",
       "      <td>Pounds()</td>\n",
       "    </tr>\n",
       "    <tr>\n",
       "      <th>Qatari Rial(QR)</th>\n",
       "      <td>1</td>\n",
       "      <td>0</td>\n",
       "      <td>0</td>\n",
       "      <td>0</td>\n",
       "      <td>Qatari Rial(QR)</td>\n",
       "    </tr>\n",
       "    <tr>\n",
       "      <th>Rand(R)</th>\n",
       "      <td>2</td>\n",
       "      <td>0</td>\n",
       "      <td>0</td>\n",
       "      <td>0</td>\n",
       "      <td>Rand(R)</td>\n",
       "    </tr>\n",
       "    <tr>\n",
       "      <th>Sri Lankan Rupee(LKR)</th>\n",
       "      <td>0</td>\n",
       "      <td>0</td>\n",
       "      <td>0</td>\n",
       "      <td>0</td>\n",
       "      <td>Sri Lankan Rupee(LKR)</td>\n",
       "    </tr>\n",
       "    <tr>\n",
       "      <th>Turkish Lira(TL)</th>\n",
       "      <td>0</td>\n",
       "      <td>0</td>\n",
       "      <td>0</td>\n",
       "      <td>0</td>\n",
       "      <td>Turkish Lira(TL)</td>\n",
       "    </tr>\n",
       "  </tbody>\n",
       "</table>\n",
       "</div>"
      ],
      "text/plain": [
       "                        Has Table booking  Has Online delivery  \\\n",
       "Currency                                                         \n",
       "Botswana Pula(P)                       14                    0   \n",
       "Brazilian Real(R$)                      0                    0   \n",
       "Dollar($)                               0                    0   \n",
       "Emirati Diram(AED)                     18                   28   \n",
       "Indian Rupees(Rs.)                   1111                 2423   \n",
       "Indonesian Rupiah(IDR)                  0                    0   \n",
       "NewZealand($)                           0                    0   \n",
       "Pounds()                               12                    0   \n",
       "Qatari Rial(QR)                         1                    0   \n",
       "Rand(R)                                 2                    0   \n",
       "Sri Lankan Rupee(LKR)                   0                    0   \n",
       "Turkish Lira(TL)                        0                    0   \n",
       "\n",
       "                        Is delivering now  Switch to order menu  \\\n",
       "Currency                                                          \n",
       "Botswana Pula(P)                        0                     0   \n",
       "Brazilian Real(R$)                      0                     0   \n",
       "Dollar($)                               0                     0   \n",
       "Emirati Diram(AED)                      0                     0   \n",
       "Indian Rupees(Rs.)                     34                     0   \n",
       "Indonesian Rupiah(IDR)                  0                     0   \n",
       "NewZealand($)                           0                     0   \n",
       "Pounds()                                0                     0   \n",
       "Qatari Rial(QR)                         0                     0   \n",
       "Rand(R)                                 0                     0   \n",
       "Sri Lankan Rupee(LKR)                   0                     0   \n",
       "Turkish Lira(TL)                        0                     0   \n",
       "\n",
       "                                      Currency  \n",
       "Currency                                        \n",
       "Botswana Pula(P)              Botswana Pula(P)  \n",
       "Brazilian Real(R$)          Brazilian Real(R$)  \n",
       "Dollar($)                            Dollar($)  \n",
       "Emirati Diram(AED)          Emirati Diram(AED)  \n",
       "Indian Rupees(Rs.)          Indian Rupees(Rs.)  \n",
       "Indonesian Rupiah(IDR)  Indonesian Rupiah(IDR)  \n",
       "NewZealand($)                    NewZealand($)  \n",
       "Pounds()                              Pounds()  \n",
       "Qatari Rial(QR)                Qatari Rial(QR)  \n",
       "Rand(R)                                Rand(R)  \n",
       "Sri Lankan Rupee(LKR)    Sri Lankan Rupee(LKR)  \n",
       "Turkish Lira(TL)              Turkish Lira(TL)  "
      ]
     },
     "execution_count": 18,
     "metadata": {},
     "output_type": "execute_result"
    }
   ],
   "source": [
    "\n",
    "restaurents_data_currency_wise['Currency'] = ccurrency\n",
    "restaurents_data_currency_wise"
   ]
  },
  {
   "cell_type": "code",
   "execution_count": 19,
   "metadata": {},
   "outputs": [
    {
     "data": {
      "image/png": "[encoded data removed]",
      "text/plain": [
       "<Figure size 2160x720 with 1 Axes>"
      ]
     },
     "metadata": {
      "needs_background": "light"
     },
     "output_type": "display_data"
    }
   ],
   "source": [
    "x = restaurents_data_currency_wise['Currency']\n",
    "x1 = restaurents_data_currency_wise['Has Table booking']\n",
    "x2 = restaurents_data_currency_wise['Has Online delivery']\n",
    "x3 = restaurents_data_currency_wise['Is delivering now']\n",
    "x4 = restaurents_data_currency_wise['Switch to order menu']\n",
    "\n",
    "X_axis = np.arange(len(x)) \n",
    "plt.subplots(figsize=(30,10))\n",
    "plt.bar(X_axis - 0.3, x1, 0.2, label = 'Table booking')\n",
    "plt.bar(X_axis - 0.1, x2, 0.2, label = 'Online delivery')\n",
    "plt.bar(X_axis + 0.1, x3, 0.2, label = 'delivering now')\n",
    "plt.bar(X_axis + 0.3, x4, 0.2, label = 'Switch to order menu')\n",
    "\n",
    "plt.xticks(X_axis,x)\n",
    "plt.ylabel(\"count of services\")\n",
    "plt.xlabel(\"currency\")\n",
    "\n",
    "plt.legend()\n",
    "plt.show()"
   ]
  },
  {
   "cell_type": "code",
   "execution_count": 20,
   "metadata": {},
   "outputs": [
    {
     "data": {
      "text/plain": [
       "City\n",
       "Ojo Caliente         1\n",
       "Clatskanie           1\n",
       "Cochrane             1\n",
       "Phillip Island       1\n",
       "Potrero              1\n",
       "                  ... \n",
       "Ghaziabad           25\n",
       "Faridabad          251\n",
       "Noida             1080\n",
       "Gurgaon           1118\n",
       "New Delhi         5473\n",
       "Length: 141, dtype: int64"
      ]
     },
     "execution_count": 20,
     "metadata": {},
     "output_type": "execute_result"
    }
   ],
   "source": [
    "restaurents_count_city_wise = restaurents_data.pivot_table(columns=['City'], aggfunc='size', )\n",
    "restaurents_count_city_wise.sort_values()"
   ]
  },
  {
   "cell_type": "code",
   "execution_count": 21,
   "metadata": {},
   "outputs": [
    {
     "data": {
      "image/png": "[encoded data removed]",
      "text/plain": [
       "<Figure size 432x288 with 1 Axes>"
      ]
     },
     "metadata": {
      "needs_background": "light"
     },
     "output_type": "display_data"
    }
   ],
   "source": [
    "height = restaurents_count_city_wise.values\n",
    "left =  np.arange(len(height)) \n",
    "\n",
    "tick_label = restaurents_data_city_wise['City']\n",
    " \n",
    "# plotting a bar chart\n",
    "plt.bar(left, height, tick_label = tick_label,\n",
    "        width = 0.8, color = ['green'],)\n",
    " \n",
    "plt.xlabel('city')\n",
    "plt.ylabel('number of restaurents')\n",
    "plt.title('Number of Restaurents in cities')\n",
    " \n",
    "plt.show()"
   ]
  },
  {
   "cell_type": "code",
   "execution_count": 22,
   "metadata": {},
   "outputs": [
    {
     "data": {
      "text/html": [
       "<div>\n",
       "<style scoped>\n",
       "    .dataframe tbody tr th:only-of-type {\n",
       "        vertical-align: middle;\n",
       "    }\n",
       "\n",
       "    .dataframe tbody tr th {\n",
       "        vertical-align: top;\n",
       "    }\n",
       "\n",
       "    .dataframe thead th {\n",
       "        text-align: right;\n",
       "    }\n",
       "</style>\n",
       "<table border=\"1\" class=\"dataframe\">\n",
       "  <thead>\n",
       "    <tr style=\"text-align: right;\">\n",
       "      <th></th>\n",
       "      <th>Restaurant ID</th>\n",
       "      <th>Restaurant Name</th>\n",
       "      <th>Country Code</th>\n",
       "      <th>City</th>\n",
       "      <th>Address</th>\n",
       "      <th>Locality</th>\n",
       "      <th>Locality Verbose</th>\n",
       "      <th>Longitude</th>\n",
       "      <th>Latitude</th>\n",
       "      <th>Cuisines</th>\n",
       "      <th>...</th>\n",
       "      <th>Currency</th>\n",
       "      <th>Has Table booking</th>\n",
       "      <th>Has Online delivery</th>\n",
       "      <th>Is delivering now</th>\n",
       "      <th>Switch to order menu</th>\n",
       "      <th>Price range</th>\n",
       "      <th>Aggregate rating</th>\n",
       "      <th>Rating color</th>\n",
       "      <th>Rating text</th>\n",
       "      <th>Votes</th>\n",
       "    </tr>\n",
       "  </thead>\n",
       "  <tbody>\n",
       "    <tr>\n",
       "      <th>865</th>\n",
       "      <td>301728</td>\n",
       "      <td>Desire Foods</td>\n",
       "      <td>1</td>\n",
       "      <td>Faridabad</td>\n",
       "      <td>G 25/22, Main Road, 40 Feet, Molarband Extensi...</td>\n",
       "      <td>Badarpur Border</td>\n",
       "      <td>Badarpur Border, Faridabad</td>\n",
       "      <td>77.306640</td>\n",
       "      <td>28.490059</td>\n",
       "      <td>Chinese, Fast Food, Bakery</td>\n",
       "      <td>...</td>\n",
       "      <td>Indian Rupees(Rs.)</td>\n",
       "      <td>0</td>\n",
       "      <td>0</td>\n",
       "      <td>0</td>\n",
       "      <td>0</td>\n",
       "      <td>1</td>\n",
       "      <td>2.9</td>\n",
       "      <td>Orange</td>\n",
       "      <td>Average</td>\n",
       "      <td>4</td>\n",
       "    </tr>\n",
       "    <tr>\n",
       "      <th>866</th>\n",
       "      <td>5992</td>\n",
       "      <td>Knight Rock</td>\n",
       "      <td>1</td>\n",
       "      <td>Faridabad</td>\n",
       "      <td>11/6, Delhi Mathura Road, Near Bharat Petrol P...</td>\n",
       "      <td>Badarpur Border</td>\n",
       "      <td>Badarpur Border, Faridabad</td>\n",
       "      <td>77.304776</td>\n",
       "      <td>28.490157</td>\n",
       "      <td>North Indian, Chinese</td>\n",
       "      <td>...</td>\n",
       "      <td>Indian Rupees(Rs.)</td>\n",
       "      <td>0</td>\n",
       "      <td>0</td>\n",
       "      <td>0</td>\n",
       "      <td>0</td>\n",
       "      <td>2</td>\n",
       "      <td>2.8</td>\n",
       "      <td>Orange</td>\n",
       "      <td>Average</td>\n",
       "      <td>16</td>\n",
       "    </tr>\n",
       "    <tr>\n",
       "      <th>867</th>\n",
       "      <td>301730</td>\n",
       "      <td>Punjab Restaurant</td>\n",
       "      <td>1</td>\n",
       "      <td>Faridabad</td>\n",
       "      <td>Main 40 Feet Road, Molarband Extension, Badarp...</td>\n",
       "      <td>Badarpur Border</td>\n",
       "      <td>Badarpur Border, Faridabad</td>\n",
       "      <td>77.305563</td>\n",
       "      <td>28.490137</td>\n",
       "      <td>North Indian</td>\n",
       "      <td>...</td>\n",
       "      <td>Indian Rupees(Rs.)</td>\n",
       "      <td>0</td>\n",
       "      <td>0</td>\n",
       "      <td>0</td>\n",
       "      <td>0</td>\n",
       "      <td>1</td>\n",
       "      <td>2.8</td>\n",
       "      <td>Orange</td>\n",
       "      <td>Average</td>\n",
       "      <td>8</td>\n",
       "    </tr>\n",
       "    <tr>\n",
       "      <th>868</th>\n",
       "      <td>301729</td>\n",
       "      <td>Raju Dhaba</td>\n",
       "      <td>1</td>\n",
       "      <td>Faridabad</td>\n",
       "      <td>Main 40 Feet Road, Molarband Extension, Badarp...</td>\n",
       "      <td>Badarpur Border</td>\n",
       "      <td>Badarpur Border, Faridabad</td>\n",
       "      <td>77.306102</td>\n",
       "      <td>28.490098</td>\n",
       "      <td>North Indian</td>\n",
       "      <td>...</td>\n",
       "      <td>Indian Rupees(Rs.)</td>\n",
       "      <td>0</td>\n",
       "      <td>0</td>\n",
       "      <td>0</td>\n",
       "      <td>0</td>\n",
       "      <td>1</td>\n",
       "      <td>2.9</td>\n",
       "      <td>Orange</td>\n",
       "      <td>Average</td>\n",
       "      <td>8</td>\n",
       "    </tr>\n",
       "    <tr>\n",
       "      <th>869</th>\n",
       "      <td>301731</td>\n",
       "      <td>Rakheja Bakery</td>\n",
       "      <td>1</td>\n",
       "      <td>Faridabad</td>\n",
       "      <td>Main 40 Feet Road, Molarband Extension, Badarp...</td>\n",
       "      <td>Badarpur Border</td>\n",
       "      <td>Badarpur Border, Faridabad</td>\n",
       "      <td>77.305745</td>\n",
       "      <td>28.490062</td>\n",
       "      <td>Bakery</td>\n",
       "      <td>...</td>\n",
       "      <td>Indian Rupees(Rs.)</td>\n",
       "      <td>0</td>\n",
       "      <td>0</td>\n",
       "      <td>0</td>\n",
       "      <td>0</td>\n",
       "      <td>1</td>\n",
       "      <td>2.8</td>\n",
       "      <td>Orange</td>\n",
       "      <td>Average</td>\n",
       "      <td>7</td>\n",
       "    </tr>\n",
       "    <tr>\n",
       "      <th>...</th>\n",
       "      <td>...</td>\n",
       "      <td>...</td>\n",
       "      <td>...</td>\n",
       "      <td>...</td>\n",
       "      <td>...</td>\n",
       "      <td>...</td>\n",
       "      <td>...</td>\n",
       "      <td>...</td>\n",
       "      <td>...</td>\n",
       "      <td>...</td>\n",
       "      <td>...</td>\n",
       "      <td>...</td>\n",
       "      <td>...</td>\n",
       "      <td>...</td>\n",
       "      <td>...</td>\n",
       "      <td>...</td>\n",
       "      <td>...</td>\n",
       "      <td>...</td>\n",
       "      <td>...</td>\n",
       "      <td>...</td>\n",
       "      <td>...</td>\n",
       "    </tr>\n",
       "    <tr>\n",
       "      <th>9108</th>\n",
       "      <td>18255134</td>\n",
       "      <td>Sky Grill</td>\n",
       "      <td>1</td>\n",
       "      <td>Noida</td>\n",
       "      <td>2nd Floor, Tulip Mall, Sector 48, Noida</td>\n",
       "      <td>Tulip Mall, Sector 48, Noida</td>\n",
       "      <td>Tulip Mall, Sector 48, Noida, Noida</td>\n",
       "      <td>77.367524</td>\n",
       "      <td>28.557537</td>\n",
       "      <td>North Indian, Chinese</td>\n",
       "      <td>...</td>\n",
       "      <td>Indian Rupees(Rs.)</td>\n",
       "      <td>0</td>\n",
       "      <td>1</td>\n",
       "      <td>0</td>\n",
       "      <td>0</td>\n",
       "      <td>2</td>\n",
       "      <td>2.6</td>\n",
       "      <td>Orange</td>\n",
       "      <td>Average</td>\n",
       "      <td>34</td>\n",
       "    </tr>\n",
       "    <tr>\n",
       "      <th>9109</th>\n",
       "      <td>18277023</td>\n",
       "      <td>Bread &amp; Pasta</td>\n",
       "      <td>1</td>\n",
       "      <td>Noida</td>\n",
       "      <td>Shop 15, Near HDFC Bank, Tulip Mall, Sector 48...</td>\n",
       "      <td>Tulip Mall, Sector 48, Noida</td>\n",
       "      <td>Tulip Mall, Sector 48, Noida, Noida</td>\n",
       "      <td>77.367303</td>\n",
       "      <td>28.557929</td>\n",
       "      <td>Fast Food</td>\n",
       "      <td>...</td>\n",
       "      <td>Indian Rupees(Rs.)</td>\n",
       "      <td>0</td>\n",
       "      <td>0</td>\n",
       "      <td>0</td>\n",
       "      <td>0</td>\n",
       "      <td>1</td>\n",
       "      <td>0.0</td>\n",
       "      <td>White</td>\n",
       "      <td>Not rated</td>\n",
       "      <td>1</td>\n",
       "    </tr>\n",
       "    <tr>\n",
       "      <th>9110</th>\n",
       "      <td>18313203</td>\n",
       "      <td>Chillies Cafe</td>\n",
       "      <td>1</td>\n",
       "      <td>Noida</td>\n",
       "      <td>G-11, Tulip Mall, Sector 48, Noida</td>\n",
       "      <td>Tulip Mall, Sector 48, Noida</td>\n",
       "      <td>Tulip Mall, Sector 48, Noida, Noida</td>\n",
       "      <td>77.367188</td>\n",
       "      <td>28.557842</td>\n",
       "      <td>Fast Food</td>\n",
       "      <td>...</td>\n",
       "      <td>Indian Rupees(Rs.)</td>\n",
       "      <td>0</td>\n",
       "      <td>0</td>\n",
       "      <td>0</td>\n",
       "      <td>0</td>\n",
       "      <td>2</td>\n",
       "      <td>0.0</td>\n",
       "      <td>White</td>\n",
       "      <td>Not rated</td>\n",
       "      <td>3</td>\n",
       "    </tr>\n",
       "    <tr>\n",
       "      <th>9111</th>\n",
       "      <td>18254559</td>\n",
       "      <td>Platters</td>\n",
       "      <td>1</td>\n",
       "      <td>Noida</td>\n",
       "      <td>Shop 1, Tulip Mall, Near HDFC Bank, Sector 48,...</td>\n",
       "      <td>Tulip Mall, Sector 48, Noida</td>\n",
       "      <td>Tulip Mall, Sector 48, Noida, Noida</td>\n",
       "      <td>77.367322</td>\n",
       "      <td>28.557930</td>\n",
       "      <td>North Indian, Chinese</td>\n",
       "      <td>...</td>\n",
       "      <td>Indian Rupees(Rs.)</td>\n",
       "      <td>0</td>\n",
       "      <td>0</td>\n",
       "      <td>0</td>\n",
       "      <td>0</td>\n",
       "      <td>2</td>\n",
       "      <td>0.0</td>\n",
       "      <td>White</td>\n",
       "      <td>Not rated</td>\n",
       "      <td>0</td>\n",
       "    </tr>\n",
       "    <tr>\n",
       "      <th>9112</th>\n",
       "      <td>18255132</td>\n",
       "      <td>The Grand</td>\n",
       "      <td>1</td>\n",
       "      <td>Noida</td>\n",
       "      <td>G-5, Tulip Mall, Sector 48, Noida</td>\n",
       "      <td>Tulip Mall, Sector 48, Noida</td>\n",
       "      <td>Tulip Mall, Sector 48, Noida, Noida</td>\n",
       "      <td>77.367188</td>\n",
       "      <td>28.557852</td>\n",
       "      <td>Raw Meats, Fast Food</td>\n",
       "      <td>...</td>\n",
       "      <td>Indian Rupees(Rs.)</td>\n",
       "      <td>0</td>\n",
       "      <td>0</td>\n",
       "      <td>0</td>\n",
       "      <td>0</td>\n",
       "      <td>1</td>\n",
       "      <td>0.0</td>\n",
       "      <td>White</td>\n",
       "      <td>Not rated</td>\n",
       "      <td>1</td>\n",
       "    </tr>\n",
       "  </tbody>\n",
       "</table>\n",
       "<p>7947 rows × 21 columns</p>\n",
       "</div>"
      ],
      "text/plain": [
       "      Restaurant ID    Restaurant Name  Country Code       City  \\\n",
       "865          301728       Desire Foods             1  Faridabad   \n",
       "866            5992        Knight Rock             1  Faridabad   \n",
       "867          301730  Punjab Restaurant             1  Faridabad   \n",
       "868          301729         Raju Dhaba             1  Faridabad   \n",
       "869          301731     Rakheja Bakery             1  Faridabad   \n",
       "...             ...                ...           ...        ...   \n",
       "9108       18255134          Sky Grill             1      Noida   \n",
       "9109       18277023      Bread & Pasta             1      Noida   \n",
       "9110       18313203      Chillies Cafe             1      Noida   \n",
       "9111       18254559           Platters             1      Noida   \n",
       "9112       18255132          The Grand             1      Noida   \n",
       "\n",
       "                                                Address  \\\n",
       "865   G 25/22, Main Road, 40 Feet, Molarband Extensi...   \n",
       "866   11/6, Delhi Mathura Road, Near Bharat Petrol P...   \n",
       "867   Main 40 Feet Road, Molarband Extension, Badarp...   \n",
       "868   Main 40 Feet Road, Molarband Extension, Badarp...   \n",
       "869   Main 40 Feet Road, Molarband Extension, Badarp...   \n",
       "...                                                 ...   \n",
       "9108            2nd Floor, Tulip Mall, Sector 48, Noida   \n",
       "9109  Shop 15, Near HDFC Bank, Tulip Mall, Sector 48...   \n",
       "9110                 G-11, Tulip Mall, Sector 48, Noida   \n",
       "9111  Shop 1, Tulip Mall, Near HDFC Bank, Sector 48,...   \n",
       "9112                  G-5, Tulip Mall, Sector 48, Noida   \n",
       "\n",
       "                          Locality                     Locality Verbose  \\\n",
       "865                Badarpur Border           Badarpur Border, Faridabad   \n",
       "866                Badarpur Border           Badarpur Border, Faridabad   \n",
       "867                Badarpur Border           Badarpur Border, Faridabad   \n",
       "868                Badarpur Border           Badarpur Border, Faridabad   \n",
       "869                Badarpur Border           Badarpur Border, Faridabad   \n",
       "...                            ...                                  ...   \n",
       "9108  Tulip Mall, Sector 48, Noida  Tulip Mall, Sector 48, Noida, Noida   \n",
       "9109  Tulip Mall, Sector 48, Noida  Tulip Mall, Sector 48, Noida, Noida   \n",
       "9110  Tulip Mall, Sector 48, Noida  Tulip Mall, Sector 48, Noida, Noida   \n",
       "9111  Tulip Mall, Sector 48, Noida  Tulip Mall, Sector 48, Noida, Noida   \n",
       "9112  Tulip Mall, Sector 48, Noida  Tulip Mall, Sector 48, Noida, Noida   \n",
       "\n",
       "      Longitude   Latitude                    Cuisines  ...  \\\n",
       "865   77.306640  28.490059  Chinese, Fast Food, Bakery  ...   \n",
       "866   77.304776  28.490157       North Indian, Chinese  ...   \n",
       "867   77.305563  28.490137                North Indian  ...   \n",
       "868   77.306102  28.490098                North Indian  ...   \n",
       "869   77.305745  28.490062                      Bakery  ...   \n",
       "...         ...        ...                         ...  ...   \n",
       "9108  77.367524  28.557537       North Indian, Chinese  ...   \n",
       "9109  77.367303  28.557929                   Fast Food  ...   \n",
       "9110  77.367188  28.557842                   Fast Food  ...   \n",
       "9111  77.367322  28.557930       North Indian, Chinese  ...   \n",
       "9112  77.367188  28.557852        Raw Meats, Fast Food  ...   \n",
       "\n",
       "                Currency Has Table booking  Has Online delivery  \\\n",
       "865   Indian Rupees(Rs.)                 0                    0   \n",
       "866   Indian Rupees(Rs.)                 0                    0   \n",
       "867   Indian Rupees(Rs.)                 0                    0   \n",
       "868   Indian Rupees(Rs.)                 0                    0   \n",
       "869   Indian Rupees(Rs.)                 0                    0   \n",
       "...                  ...               ...                  ...   \n",
       "9108  Indian Rupees(Rs.)                 0                    1   \n",
       "9109  Indian Rupees(Rs.)                 0                    0   \n",
       "9110  Indian Rupees(Rs.)                 0                    0   \n",
       "9111  Indian Rupees(Rs.)                 0                    0   \n",
       "9112  Indian Rupees(Rs.)                 0                    0   \n",
       "\n",
       "      Is delivering now  Switch to order menu  Price range  Aggregate rating  \\\n",
       "865                   0                     0            1               2.9   \n",
       "866                   0                     0            2               2.8   \n",
       "867                   0                     0            1               2.8   \n",
       "868                   0                     0            1               2.9   \n",
       "869                   0                     0            1               2.8   \n",
       "...                 ...                   ...          ...               ...   \n",
       "9108                  0                     0            2               2.6   \n",
       "9109                  0                     0            1               0.0   \n",
       "9110                  0                     0            2               0.0   \n",
       "9111                  0                     0            2               0.0   \n",
       "9112                  0                     0            1               0.0   \n",
       "\n",
       "      Rating color Rating text Votes  \n",
       "865         Orange     Average     4  \n",
       "866         Orange     Average    16  \n",
       "867         Orange     Average     8  \n",
       "868         Orange     Average     8  \n",
       "869         Orange     Average     7  \n",
       "...            ...         ...   ...  \n",
       "9108        Orange     Average    34  \n",
       "9109         White   Not rated     1  \n",
       "9110         White   Not rated     3  \n",
       "9111         White   Not rated     0  \n",
       "9112         White   Not rated     1  \n",
       "\n",
       "[7947 rows x 21 columns]"
      ]
     },
     "execution_count": 22,
     "metadata": {},
     "output_type": "execute_result"
    }
   ],
   "source": [
    "df_cities_with_max_restaurents = restaurents_data\n",
    "idx = df_cities_with_max_restaurents[\"City\"].isin([\"New Delhi\",\"Faridabad\",\"Ghaziabad\",\"Noida\",\"Gurgaon\"])\n",
    "df_cities_with_max_restaurents = df_cities_with_max_restaurents[idx]\n",
    "df_cities_with_max_restaurents"
   ]
  },
  {
   "cell_type": "code",
   "execution_count": 23,
   "metadata": {},
   "outputs": [
    {
     "data": {
      "text/html": [
       "<div>\n",
       "<style scoped>\n",
       "    .dataframe tbody tr th:only-of-type {\n",
       "        vertical-align: middle;\n",
       "    }\n",
       "\n",
       "    .dataframe tbody tr th {\n",
       "        vertical-align: top;\n",
       "    }\n",
       "\n",
       "    .dataframe thead th {\n",
       "        text-align: right;\n",
       "    }\n",
       "</style>\n",
       "<table border=\"1\" class=\"dataframe\">\n",
       "  <thead>\n",
       "    <tr style=\"text-align: right;\">\n",
       "      <th></th>\n",
       "      <th>Has Table booking</th>\n",
       "      <th>Has Online delivery</th>\n",
       "      <th>Is delivering now</th>\n",
       "      <th>Switch to order menu</th>\n",
       "      <th>City</th>\n",
       "    </tr>\n",
       "    <tr>\n",
       "      <th>City</th>\n",
       "      <th></th>\n",
       "      <th></th>\n",
       "      <th></th>\n",
       "      <th></th>\n",
       "      <th></th>\n",
       "    </tr>\n",
       "  </thead>\n",
       "  <tbody>\n",
       "    <tr>\n",
       "      <th>Faridabad</th>\n",
       "      <td>15</td>\n",
       "      <td>35</td>\n",
       "      <td>0</td>\n",
       "      <td>0</td>\n",
       "      <td>Faridabad</td>\n",
       "    </tr>\n",
       "    <tr>\n",
       "      <th>Ghaziabad</th>\n",
       "      <td>3</td>\n",
       "      <td>10</td>\n",
       "      <td>0</td>\n",
       "      <td>0</td>\n",
       "      <td>Ghaziabad</td>\n",
       "    </tr>\n",
       "    <tr>\n",
       "      <th>Gurgaon</th>\n",
       "      <td>204</td>\n",
       "      <td>425</td>\n",
       "      <td>12</td>\n",
       "      <td>0</td>\n",
       "      <td>Gurgaon</td>\n",
       "    </tr>\n",
       "    <tr>\n",
       "      <th>New Delhi</th>\n",
       "      <td>715</td>\n",
       "      <td>1489</td>\n",
       "      <td>16</td>\n",
       "      <td>0</td>\n",
       "      <td>New Delhi</td>\n",
       "    </tr>\n",
       "    <tr>\n",
       "      <th>Noida</th>\n",
       "      <td>112</td>\n",
       "      <td>364</td>\n",
       "      <td>5</td>\n",
       "      <td>0</td>\n",
       "      <td>Noida</td>\n",
       "    </tr>\n",
       "  </tbody>\n",
       "</table>\n",
       "</div>"
      ],
      "text/plain": [
       "           Has Table booking  Has Online delivery  Is delivering now  \\\n",
       "City                                                                   \n",
       "Faridabad                 15                   35                  0   \n",
       "Ghaziabad                  3                   10                  0   \n",
       "Gurgaon                  204                  425                 12   \n",
       "New Delhi                715                 1489                 16   \n",
       "Noida                    112                  364                  5   \n",
       "\n",
       "           Switch to order menu       City  \n",
       "City                                        \n",
       "Faridabad                     0  Faridabad  \n",
       "Ghaziabad                     0  Ghaziabad  \n",
       "Gurgaon                       0    Gurgaon  \n",
       "New Delhi                     0  New Delhi  \n",
       "Noida                         0      Noida  "
      ]
     },
     "execution_count": 23,
     "metadata": {},
     "output_type": "execute_result"
    }
   ],
   "source": [
    "df_cities_with_max_restaurents = restaurents_data_city_wise\n",
    "idx = df_cities_with_max_restaurents[\"City\"].isin([\"New Delhi\",\"Faridabad\",\"Ghaziabad\",\"Noida\",\"Gurgaon\"])\n",
    "df_cities_with_max_restaurents = df_cities_with_max_restaurents[idx]\n",
    "df_cities_with_max_restaurents"
   ]
  },
  {
   "cell_type": "code",
   "execution_count": 24,
   "metadata": {},
   "outputs": [
    {
     "data": {
      "image/png": "[encoded data removed]",
      "text/plain": [
       "<Figure size 2160x720 with 1 Axes>"
      ]
     },
     "metadata": {
      "needs_background": "light"
     },
     "output_type": "display_data"
    }
   ],
   "source": [
    "x = df_cities_with_max_restaurents['City']\n",
    "x1 = df_cities_with_max_restaurents['Has Table booking']\n",
    "x2 = df_cities_with_max_restaurents['Has Online delivery']\n",
    "x3 = df_cities_with_max_restaurents['Is delivering now']\n",
    "x4 = df_cities_with_max_restaurents['Switch to order menu']\n",
    "\n",
    "X_axis = np.arange(len(x)) \n",
    "plt.subplots(figsize=(30,10))\n",
    "plt.bar(X_axis - 0.3, x1, 0.2, label = 'Table booking')\n",
    "plt.bar(X_axis - 0.1, x2, 0.2, label = 'Online delivery')\n",
    "plt.bar(X_axis + 0.1, x3, 0.2, label = 'delivering now')\n",
    "plt.bar(X_axis + 0.3, x4, 0.2, label = 'Switch to order menu')\n",
    "\n",
    "plt.xticks(X_axis,x)\n",
    "plt.ylabel(\"count of services\")\n",
    "plt.xlabel(\"city\")\n",
    "\n",
    "plt.legend()\n",
    "plt.show()"
   ]
  },
  {
   "cell_type": "code",
   "execution_count": 25,
   "metadata": {},
   "outputs": [
    {
     "data": {
      "text/plain": [
       "<AxesSubplot:>"
      ]
     },
     "execution_count": 25,
     "metadata": {},
     "output_type": "execute_result"
    },
    {
     "data": {
      "image/png": "[encoded data removed]",
      "text/plain": [
       "<Figure size 1080x432 with 1 Axes>"
      ]
     },
     "metadata": {
      "needs_background": "light"
     },
     "output_type": "display_data"
    }
   ],
   "source": [
    "ax = plt.subplots(figsize=(15,6))\n",
    "sns.boxplot(data= restaurents_data_city_wise.iloc[:,0:4])"
   ]
  },
  {
   "cell_type": "code",
   "execution_count": 26,
   "metadata": {},
   "outputs": [
    {
     "data": {
      "text/plain": [
       "<AxesSubplot:>"
      ]
     },
     "execution_count": 26,
     "metadata": {},
     "output_type": "execute_result"
    },
    {
     "data": {
      "image/png": "[encoded data removed]",
      "text/plain": [
       "<Figure size 1080x432 with 1 Axes>"
      ]
     },
     "metadata": {
      "needs_background": "light"
     },
     "output_type": "display_data"
    }
   ],
   "source": [
    "ax = plt.subplots(figsize=(15,6))\n",
    "sns.boxplot(data= df_cities_with_max_restaurents.iloc[:,0:4])"
   ]
  },
  {
   "cell_type": "code",
   "execution_count": 27,
   "metadata": {},
   "outputs": [
    {
     "data": {
      "text/plain": [
       "<AxesSubplot:>"
      ]
     },
     "execution_count": 27,
     "metadata": {},
     "output_type": "execute_result"
    },
    {
     "data": {
      "image/png": "[encoded data removed]",
      "text/plain": [
       "<Figure size 1080x432 with 1 Axes>"
      ]
     },
     "metadata": {
      "needs_background": "light"
     },
     "output_type": "display_data"
    }
   ],
   "source": [
    "ax = plt.subplots(figsize=(15,6))\n",
    "sns.violinplot(data=restaurents_data_city_wise.iloc[:,0:4])"
   ]
  },
  {
   "cell_type": "code",
   "execution_count": 28,
   "metadata": {},
   "outputs": [
    {
     "data": {
      "text/plain": [
       "<AxesSubplot:>"
      ]
     },
     "execution_count": 28,
     "metadata": {},
     "output_type": "execute_result"
    },
    {
     "data": {
      "image/png": "[encoded data removed]",
      "text/plain": [
       "<Figure size 1080x432 with 1 Axes>"
      ]
     },
     "metadata": {
      "needs_background": "light"
     },
     "output_type": "display_data"
    }
   ],
   "source": [
    "ax = plt.subplots(figsize=(15,6))\n",
    "sns.violinplot(data=df_cities_with_max_restaurents.iloc[:,0:4])"
   ]
  },
  {
   "cell_type": "code",
   "execution_count": 29,
   "metadata": {},
   "outputs": [
    {
     "data": {
      "text/plain": [
       "<AxesSubplot:>"
      ]
     },
     "execution_count": 29,
     "metadata": {},
     "output_type": "execute_result"
    },
    {
     "data": {
      "image/png": "[encoded data removed]",
      "text/plain": [
       "<Figure size 1080x432 with 1 Axes>"
      ]
     },
     "metadata": {
      "needs_background": "light"
     },
     "output_type": "display_data"
    }
   ],
   "source": [
    "ax = plt.subplots(figsize=(15,6))\n",
    "sns.stripplot(data=restaurents_data_city_wise.iloc[:,0:4])"
   ]
  },
  {
   "cell_type": "code",
   "execution_count": 30,
   "metadata": {},
   "outputs": [
    {
     "data": {
      "text/plain": [
       "<AxesSubplot:>"
      ]
     },
     "execution_count": 30,
     "metadata": {},
     "output_type": "execute_result"
    },
    {
     "data": {
      "image/png": "[encoded data removed]",
      "text/plain": [
       "<Figure size 1080x432 with 1 Axes>"
      ]
     },
     "metadata": {
      "needs_background": "light"
     },
     "output_type": "display_data"
    }
   ],
   "source": [
    "ax = plt.subplots(figsize=(15,6))\n",
    "sns.stripplot(data=df_cities_with_max_restaurents.iloc[:,0:4])"
   ]
  },
  {
   "cell_type": "code",
   "execution_count": 31,
   "metadata": {},
   "outputs": [],
   "source": [
    "df_restaurents = df_cities_with_max_restaurents\n",
    "label=[\"New Delhi\",\"Faridabad\",\"Ghaziabad\",\"Noida\",\"Gurgaon\"]"
   ]
  },
  {
   "cell_type": "code",
   "execution_count": 32,
   "metadata": {},
   "outputs": [
    {
     "data": {
      "text/plain": [
       "<AxesSubplot:title={'center':'Number of restaurents Has Online delivery'}, ylabel='Has Online delivery'>"
      ]
     },
     "execution_count": 32,
     "metadata": {},
     "output_type": "execute_result"
    },
    {
     "data": {
      "image/png": "[encoded data removed]",
      "text/plain": [
       "<Figure size 432x288 with 1 Axes>"
      ]
     },
     "metadata": {},
     "output_type": "display_data"
    }
   ],
   "source": [
    "df_restaurents.plot.pie(x='City',y='Has Online delivery',labels=label, autopct='%.0f%%',title=\"Number of restaurents Has Online delivery\")"
   ]
  },
  {
   "cell_type": "code",
   "execution_count": 33,
   "metadata": {},
   "outputs": [
    {
     "name": "stderr",
     "output_type": "stream",
     "text": [
      "/home/kapil/.local/lib/python3.6/site-packages/pandas/plotting/_matplotlib/core.py:1547: MatplotlibDeprecationWarning: normalize=None does not normalize if the sum is less than 1 but this behavior is deprecated since 3.3 until two minor releases later. After the deprecation period the default value will be normalize=True. To prevent normalization pass normalize=False \n",
      "  results = ax.pie(y, labels=blabels, **kwds)\n"
     ]
    },
    {
     "data": {
      "image/png": "[encoded data removed]",
      "text/plain": [
       "<Figure size 1440x720 with 4 Axes>"
      ]
     },
     "metadata": {},
     "output_type": "display_data"
    }
   ],
   "source": [
    "fig,axes=plt.subplots(2,2,figsize=(20,10))\n",
    "df_restaurents.plot.pie(x='City',y='Has Table booking',labels=label, autopct='%.0f%%',ax=axes[0,0],title=\"Has Table booking\")\n",
    "df_restaurents.plot.pie(x='City',y='Has Online delivery',labels=label, autopct='%.0f%%', ax=axes[0,1],title='Has Online delivery')\n",
    "df_restaurents.plot.pie(x='City',y='Is delivering now',labels=label, autopct='%.0f%%', ax=axes[1,0],title='Is delivering now')\n",
    "df_restaurents.plot.pie(x='City',y='Switch to order menu',labels=label, autopct='%.0f%%',ax=axes[1,1],title=\"Switch to order menu\")\n",
    "# axes[1,1].axis('off')\n",
    "\n",
    "plt.show()"
   ]
  },
  {
   "cell_type": "code",
   "execution_count": 34,
   "metadata": {},
   "outputs": [
    {
     "data": {
      "image/png": "[encoded data removed]",
      "text/plain": [
       "<Figure size 432x288 with 2 Axes>"
      ]
     },
     "metadata": {
      "needs_background": "light"
     },
     "output_type": "display_data"
    }
   ],
   "source": [
    "ax = sns.heatmap(restaurents_data_city_wise.corr() , annot = True)"
   ]
  },
  {
   "cell_type": "code",
   "execution_count": 35,
   "metadata": {},
   "outputs": [
    {
     "data": {
      "text/plain": [
       "<seaborn.axisgrid.PairGrid at 0x7f6bbe5ffda0>"
      ]
     },
     "execution_count": 35,
     "metadata": {},
     "output_type": "execute_result"
    },
    {
     "data": {
      "image/png": "[encoded data removed]",
      "text/plain": [
       "<Figure size 720x720 with 16 Axes>"
      ]
     },
     "metadata": {
      "needs_background": "light"
     },
     "output_type": "display_data"
    }
   ],
   "source": [
    "g = sns.PairGrid(\n",
    "    df_restaurents[['Has Table booking','Has Online delivery', 'Is delivering now', 'Switch to order menu']])\n",
    "g.map(sns.scatterplot)"
   ]
  },
  {
   "cell_type": "code",
   "execution_count": 36,
   "metadata": {},
   "outputs": [],
   "source": [
    "# finding mean and median of Aggregate rating of each restaurent\n",
    "restaurents_data_mean = restaurents_data[\"Aggregate rating\"].mean() \n",
    "restaurents_data_median = restaurents_data[\"Aggregate rating\"].median()\n"
   ]
  },
  {
   "cell_type": "code",
   "execution_count": 37,
   "metadata": {},
   "outputs": [
    {
     "name": "stdout",
     "output_type": "stream",
     "text": [
      "Mean of restaurents data Aggregate rating  2.66637001361114\n",
      "Median of restaurents data Aggregate rating  3.2\n"
     ]
    }
   ],
   "source": [
    "# printing mean and median\n",
    "print(\"Mean of restaurents data Aggregate rating \", restaurents_data_mean)\n",
    "print(\"Median of restaurents data Aggregate rating \", restaurents_data_median)"
   ]
  },
  {
   "cell_type": "code",
   "execution_count": 38,
   "metadata": {},
   "outputs": [
    {
     "data": {
      "text/plain": [
       "<AxesSubplot:xlabel='Aggregate rating', ylabel='Count'>"
      ]
     },
     "execution_count": 38,
     "metadata": {},
     "output_type": "execute_result"
    },
    {
     "data": {
      "image/png": "[encoded data removed]",
      "text/plain": [
       "<Figure size 432x288 with 1 Axes>"
      ]
     },
     "metadata": {
      "needs_background": "light"
     },
     "output_type": "display_data"
    }
   ],
   "source": [
    "# plotting the histplot for Aggregate rating of each restaurent against number of restaurents\n",
    "sns.histplot(data=restaurents_data, x=\"Aggregate rating\",bins=15,kde=True)"
   ]
  },
  {
   "cell_type": "code",
   "execution_count": 39,
   "metadata": {},
   "outputs": [
    {
     "data": {
      "text/plain": [
       "<AxesSubplot:ylabel='Aggregate rating'>"
      ]
     },
     "execution_count": 39,
     "metadata": {},
     "output_type": "execute_result"
    },
    {
     "data": {
      "image/png": "[encoded data removed]",
      "text/plain": [
       "<Figure size 432x288 with 1 Axes>"
      ]
     },
     "metadata": {
      "needs_background": "light"
     },
     "output_type": "display_data"
    }
   ],
   "source": [
    "# plotting box plot to know the outliers\n",
    "sns.boxplot(y=restaurents_data[\"Aggregate rating\"])"
   ]
  },
  {
   "cell_type": "code",
   "execution_count": 40,
   "metadata": {},
   "outputs": [],
   "source": [
    "#  Sorting Data based on Aggregate rating\n",
    "sorted_restaurents_data = restaurents_data.sort_values(by=['Aggregate rating'])"
   ]
  },
  {
   "cell_type": "code",
   "execution_count": 41,
   "metadata": {},
   "outputs": [],
   "source": [
    "#  Finding and printing the trimmed mean for stocks data with considering trimmed percentage 10%\n",
    "trimmed_percentage_restaurents_data = 0.1\n",
    "trimmed_data = math.floor(len(sorted_restaurents_data) * trimmed_percentage_restaurents_data)\n",
    "trimmed_mean_restaurents_data = sorted_restaurents_data[\"Aggregate rating\"].iloc[trimmed_data:len(sorted_restaurents_data) - trimmed_data].mean()"
   ]
  },
  {
   "cell_type": "code",
   "execution_count": 42,
   "metadata": {},
   "outputs": [
    {
     "name": "stdout",
     "output_type": "stream",
     "text": [
      "The trimmed mean of given stocks data is 2.7852898835230993\n"
     ]
    }
   ],
   "source": [
    "print(\"The trimmed mean of given stocks data is\",trimmed_mean_restaurents_data)"
   ]
  },
  {
   "cell_type": "code",
   "execution_count": 43,
   "metadata": {},
   "outputs": [
    {
     "data": {
      "text/plain": [
       "0       2.13363\n",
       "1       1.83363\n",
       "2       1.73363\n",
       "3       2.23363\n",
       "4       2.13363\n",
       "         ...   \n",
       "9546    1.43363\n",
       "9547    1.53363\n",
       "9548    1.03363\n",
       "9549    1.33363\n",
       "9550    1.33363\n",
       "Name: Aggregate rating, Length: 9551, dtype: float64"
      ]
     },
     "execution_count": 43,
     "metadata": {},
     "output_type": "execute_result"
    }
   ],
   "source": [
    "# finding deviation of each Aggregate rating restaurent from mean\n",
    "restaurents_data[\"Aggregate rating\"] - restaurents_data[\"Aggregate rating\"].mean()"
   ]
  },
  {
   "cell_type": "code",
   "execution_count": 44,
   "metadata": {},
   "outputs": [
    {
     "name": "stdout",
     "output_type": "stream",
     "text": [
      "The standard deviation of given restaurents data is  1.5163775396521328\n"
     ]
    }
   ],
   "source": [
    "print(\"The standard deviation of given restaurents data is \", restaurents_data[\"Aggregate rating\"].std())"
   ]
  },
  {
   "cell_type": "code",
   "execution_count": 45,
   "metadata": {},
   "outputs": [
    {
     "name": "stdout",
     "output_type": "stream",
     "text": [
      "The variance of given restaurents data is  2.2994008427614556\n"
     ]
    }
   ],
   "source": [
    "print(\"The variance of given restaurents data is \", restaurents_data[\"Aggregate rating\"].var())"
   ]
  },
  {
   "cell_type": "code",
   "execution_count": 46,
   "metadata": {},
   "outputs": [
    {
     "name": "stdout",
     "output_type": "stream",
     "text": [
      "Mean absolute Deviation of given restaurents data  1.2201622837117274\n"
     ]
    }
   ],
   "source": [
    "print(\"Mean absolute Deviation of given restaurents data \",((restaurents_data[\"Aggregate rating\"] - restaurents_data[\"Aggregate rating\"].mean()).abs()).mean())"
   ]
  },
  {
   "cell_type": "code",
   "execution_count": 47,
   "metadata": {},
   "outputs": [],
   "source": [
    "# Median absolute deviation from the median\n",
    "restaurents_data_deviation = restaurents_data[\"Aggregate rating\"] - restaurents_data[\"Aggregate rating\"].median()\n",
    "restaurents_data_deviation_absolute = restaurents_data_deviation.abs()\n",
    "restaurents_data_deviation_absolute_sorted = restaurents_data_deviation_absolute.sort_values()\n"
   ]
  },
  {
   "cell_type": "code",
   "execution_count": 48,
   "metadata": {},
   "outputs": [
    {
     "name": "stdout",
     "output_type": "stream",
     "text": [
      "Median absolute deviation from the median of the data is 0.5\n"
     ]
    }
   ],
   "source": [
    "print(\"Median absolute deviation from the median of the data is\", restaurents_data_deviation_absolute_sorted.median())"
   ]
  },
  {
   "cell_type": "code",
   "execution_count": 49,
   "metadata": {},
   "outputs": [],
   "source": [
    "restaurents_data_pe_sorted = restaurents_data[\"Aggregate rating\"].sort_values()\n"
   ]
  },
  {
   "cell_type": "code",
   "execution_count": 50,
   "metadata": {},
   "outputs": [
    {
     "name": "stdout",
     "output_type": "stream",
     "text": [
      "Maximum value in the data 4.9\n",
      "Minimum value in the data 0.0\n"
     ]
    }
   ],
   "source": [
    "print(\"Maximum value in the data\", restaurents_data_pe_sorted.iloc[-1])\n",
    "print(\"Minimum value in the data\", restaurents_data_pe_sorted.iloc[0])\n"
   ]
  },
  {
   "cell_type": "code",
   "execution_count": 51,
   "metadata": {},
   "outputs": [
    {
     "name": "stdout",
     "output_type": "stream",
     "text": [
      "The range of given data is 4.9\n"
     ]
    }
   ],
   "source": [
    "range_restaurents_data = restaurents_data_pe_sorted.iloc[-1] - restaurents_data_pe_sorted.iloc[0]\n",
    "print(\"The range of given data is\", range_restaurents_data)"
   ]
  },
  {
   "cell_type": "code",
   "execution_count": 52,
   "metadata": {},
   "outputs": [],
   "source": [
    "#finding the threshold\n",
    "restaurents_data_percentile_threshold = restaurents_data[\"Aggregate rating\"].quantile(0.5)\n"
   ]
  },
  {
   "cell_type": "code",
   "execution_count": 53,
   "metadata": {},
   "outputs": [
    {
     "name": "stdout",
     "output_type": "stream",
     "text": [
      "Threshold value 3.2\n",
      "5091\n"
     ]
    }
   ],
   "source": [
    "\n",
    "print(\"Threshold value\", restaurents_data_percentile_threshold)\n",
    "print((restaurents_data[\"Aggregate rating\"] <= restaurents_data_percentile_threshold).sum() + 1)"
   ]
  },
  {
   "cell_type": "code",
   "execution_count": 54,
   "metadata": {},
   "outputs": [
    {
     "name": "stdout",
     "output_type": "stream",
     "text": [
      "The Inter Quartile Range of given restaurents data is 1.2000000000000002\n"
     ]
    }
   ],
   "source": [
    "# finding and printing the IQR for the given restaurents data\n",
    "inter_quartile_range_restaurents_data = restaurents_data[\"Aggregate rating\"].quantile(0.75) - restaurents_data[\"Aggregate rating\"].quantile(0.25)\n",
    "print(\"The Inter Quartile Range of given restaurents data is\", inter_quartile_range_restaurents_data)"
   ]
  },
  {
   "cell_type": "code",
   "execution_count": 55,
   "metadata": {},
   "outputs": [
    {
     "data": {
      "text/html": [
       "<div>\n",
       "<style scoped>\n",
       "    .dataframe tbody tr th:only-of-type {\n",
       "        vertical-align: middle;\n",
       "    }\n",
       "\n",
       "    .dataframe tbody tr th {\n",
       "        vertical-align: top;\n",
       "    }\n",
       "\n",
       "    .dataframe thead th {\n",
       "        text-align: right;\n",
       "    }\n",
       "</style>\n",
       "<table border=\"1\" class=\"dataframe\">\n",
       "  <thead>\n",
       "    <tr style=\"text-align: right;\">\n",
       "      <th>col_0</th>\n",
       "      <th>1</th>\n",
       "      <th>2</th>\n",
       "      <th>3</th>\n",
       "      <th>4</th>\n",
       "      <th>6</th>\n",
       "      <th>11</th>\n",
       "      <th>14</th>\n",
       "      <th>16</th>\n",
       "      <th>18</th>\n",
       "      <th>20</th>\n",
       "      <th>21</th>\n",
       "      <th>25</th>\n",
       "      <th>251</th>\n",
       "      <th>1080</th>\n",
       "      <th>1118</th>\n",
       "      <th>5473</th>\n",
       "    </tr>\n",
       "    <tr>\n",
       "      <th>Has Online delivery</th>\n",
       "      <th></th>\n",
       "      <th></th>\n",
       "      <th></th>\n",
       "      <th></th>\n",
       "      <th></th>\n",
       "      <th></th>\n",
       "      <th></th>\n",
       "      <th></th>\n",
       "      <th></th>\n",
       "      <th></th>\n",
       "      <th></th>\n",
       "      <th></th>\n",
       "      <th></th>\n",
       "      <th></th>\n",
       "      <th></th>\n",
       "      <th></th>\n",
       "    </tr>\n",
       "  </thead>\n",
       "  <tbody>\n",
       "    <tr>\n",
       "      <th>0</th>\n",
       "      <td>45</td>\n",
       "      <td>7</td>\n",
       "      <td>2</td>\n",
       "      <td>2</td>\n",
       "      <td>1</td>\n",
       "      <td>1</td>\n",
       "      <td>1</td>\n",
       "      <td>1</td>\n",
       "      <td>0</td>\n",
       "      <td>55</td>\n",
       "      <td>4</td>\n",
       "      <td>0</td>\n",
       "      <td>0</td>\n",
       "      <td>0</td>\n",
       "      <td>0</td>\n",
       "      <td>0</td>\n",
       "    </tr>\n",
       "    <tr>\n",
       "      <th>1</th>\n",
       "      <td>1</td>\n",
       "      <td>1</td>\n",
       "      <td>0</td>\n",
       "      <td>0</td>\n",
       "      <td>0</td>\n",
       "      <td>0</td>\n",
       "      <td>0</td>\n",
       "      <td>0</td>\n",
       "      <td>0</td>\n",
       "      <td>0</td>\n",
       "      <td>0</td>\n",
       "      <td>0</td>\n",
       "      <td>0</td>\n",
       "      <td>0</td>\n",
       "      <td>0</td>\n",
       "      <td>0</td>\n",
       "    </tr>\n",
       "    <tr>\n",
       "      <th>5</th>\n",
       "      <td>0</td>\n",
       "      <td>0</td>\n",
       "      <td>0</td>\n",
       "      <td>0</td>\n",
       "      <td>0</td>\n",
       "      <td>0</td>\n",
       "      <td>0</td>\n",
       "      <td>0</td>\n",
       "      <td>0</td>\n",
       "      <td>1</td>\n",
       "      <td>0</td>\n",
       "      <td>0</td>\n",
       "      <td>0</td>\n",
       "      <td>0</td>\n",
       "      <td>0</td>\n",
       "      <td>0</td>\n",
       "    </tr>\n",
       "    <tr>\n",
       "      <th>6</th>\n",
       "      <td>0</td>\n",
       "      <td>0</td>\n",
       "      <td>0</td>\n",
       "      <td>0</td>\n",
       "      <td>0</td>\n",
       "      <td>0</td>\n",
       "      <td>0</td>\n",
       "      <td>0</td>\n",
       "      <td>1</td>\n",
       "      <td>1</td>\n",
       "      <td>0</td>\n",
       "      <td>0</td>\n",
       "      <td>0</td>\n",
       "      <td>0</td>\n",
       "      <td>0</td>\n",
       "      <td>0</td>\n",
       "    </tr>\n",
       "    <tr>\n",
       "      <th>7</th>\n",
       "      <td>0</td>\n",
       "      <td>0</td>\n",
       "      <td>0</td>\n",
       "      <td>0</td>\n",
       "      <td>0</td>\n",
       "      <td>0</td>\n",
       "      <td>0</td>\n",
       "      <td>0</td>\n",
       "      <td>1</td>\n",
       "      <td>4</td>\n",
       "      <td>0</td>\n",
       "      <td>0</td>\n",
       "      <td>0</td>\n",
       "      <td>0</td>\n",
       "      <td>0</td>\n",
       "      <td>0</td>\n",
       "    </tr>\n",
       "    <tr>\n",
       "      <th>8</th>\n",
       "      <td>0</td>\n",
       "      <td>0</td>\n",
       "      <td>0</td>\n",
       "      <td>0</td>\n",
       "      <td>0</td>\n",
       "      <td>0</td>\n",
       "      <td>0</td>\n",
       "      <td>0</td>\n",
       "      <td>0</td>\n",
       "      <td>1</td>\n",
       "      <td>0</td>\n",
       "      <td>0</td>\n",
       "      <td>0</td>\n",
       "      <td>0</td>\n",
       "      <td>0</td>\n",
       "      <td>0</td>\n",
       "    </tr>\n",
       "    <tr>\n",
       "      <th>10</th>\n",
       "      <td>0</td>\n",
       "      <td>0</td>\n",
       "      <td>0</td>\n",
       "      <td>0</td>\n",
       "      <td>0</td>\n",
       "      <td>0</td>\n",
       "      <td>0</td>\n",
       "      <td>0</td>\n",
       "      <td>0</td>\n",
       "      <td>2</td>\n",
       "      <td>0</td>\n",
       "      <td>1</td>\n",
       "      <td>0</td>\n",
       "      <td>0</td>\n",
       "      <td>0</td>\n",
       "      <td>0</td>\n",
       "    </tr>\n",
       "    <tr>\n",
       "      <th>11</th>\n",
       "      <td>0</td>\n",
       "      <td>0</td>\n",
       "      <td>0</td>\n",
       "      <td>0</td>\n",
       "      <td>0</td>\n",
       "      <td>0</td>\n",
       "      <td>0</td>\n",
       "      <td>0</td>\n",
       "      <td>0</td>\n",
       "      <td>2</td>\n",
       "      <td>1</td>\n",
       "      <td>0</td>\n",
       "      <td>0</td>\n",
       "      <td>0</td>\n",
       "      <td>0</td>\n",
       "      <td>0</td>\n",
       "    </tr>\n",
       "    <tr>\n",
       "      <th>13</th>\n",
       "      <td>0</td>\n",
       "      <td>0</td>\n",
       "      <td>0</td>\n",
       "      <td>0</td>\n",
       "      <td>0</td>\n",
       "      <td>0</td>\n",
       "      <td>0</td>\n",
       "      <td>0</td>\n",
       "      <td>0</td>\n",
       "      <td>1</td>\n",
       "      <td>0</td>\n",
       "      <td>0</td>\n",
       "      <td>0</td>\n",
       "      <td>0</td>\n",
       "      <td>0</td>\n",
       "      <td>0</td>\n",
       "    </tr>\n",
       "    <tr>\n",
       "      <th>35</th>\n",
       "      <td>0</td>\n",
       "      <td>0</td>\n",
       "      <td>0</td>\n",
       "      <td>0</td>\n",
       "      <td>0</td>\n",
       "      <td>0</td>\n",
       "      <td>0</td>\n",
       "      <td>0</td>\n",
       "      <td>0</td>\n",
       "      <td>0</td>\n",
       "      <td>0</td>\n",
       "      <td>0</td>\n",
       "      <td>1</td>\n",
       "      <td>0</td>\n",
       "      <td>0</td>\n",
       "      <td>0</td>\n",
       "    </tr>\n",
       "    <tr>\n",
       "      <th>364</th>\n",
       "      <td>0</td>\n",
       "      <td>0</td>\n",
       "      <td>0</td>\n",
       "      <td>0</td>\n",
       "      <td>0</td>\n",
       "      <td>0</td>\n",
       "      <td>0</td>\n",
       "      <td>0</td>\n",
       "      <td>0</td>\n",
       "      <td>0</td>\n",
       "      <td>0</td>\n",
       "      <td>0</td>\n",
       "      <td>0</td>\n",
       "      <td>1</td>\n",
       "      <td>0</td>\n",
       "      <td>0</td>\n",
       "    </tr>\n",
       "    <tr>\n",
       "      <th>425</th>\n",
       "      <td>0</td>\n",
       "      <td>0</td>\n",
       "      <td>0</td>\n",
       "      <td>0</td>\n",
       "      <td>0</td>\n",
       "      <td>0</td>\n",
       "      <td>0</td>\n",
       "      <td>0</td>\n",
       "      <td>0</td>\n",
       "      <td>0</td>\n",
       "      <td>0</td>\n",
       "      <td>0</td>\n",
       "      <td>0</td>\n",
       "      <td>0</td>\n",
       "      <td>1</td>\n",
       "      <td>0</td>\n",
       "    </tr>\n",
       "    <tr>\n",
       "      <th>1489</th>\n",
       "      <td>0</td>\n",
       "      <td>0</td>\n",
       "      <td>0</td>\n",
       "      <td>0</td>\n",
       "      <td>0</td>\n",
       "      <td>0</td>\n",
       "      <td>0</td>\n",
       "      <td>0</td>\n",
       "      <td>0</td>\n",
       "      <td>0</td>\n",
       "      <td>0</td>\n",
       "      <td>0</td>\n",
       "      <td>0</td>\n",
       "      <td>0</td>\n",
       "      <td>0</td>\n",
       "      <td>1</td>\n",
       "    </tr>\n",
       "  </tbody>\n",
       "</table>\n",
       "</div>"
      ],
      "text/plain": [
       "col_0                1     2     3     4     6     11    14    16    18    \\\n",
       "Has Online delivery                                                         \n",
       "0                      45     7     2     2     1     1     1     1     0   \n",
       "1                       1     1     0     0     0     0     0     0     0   \n",
       "5                       0     0     0     0     0     0     0     0     0   \n",
       "6                       0     0     0     0     0     0     0     0     1   \n",
       "7                       0     0     0     0     0     0     0     0     1   \n",
       "8                       0     0     0     0     0     0     0     0     0   \n",
       "10                      0     0     0     0     0     0     0     0     0   \n",
       "11                      0     0     0     0     0     0     0     0     0   \n",
       "13                      0     0     0     0     0     0     0     0     0   \n",
       "35                      0     0     0     0     0     0     0     0     0   \n",
       "364                     0     0     0     0     0     0     0     0     0   \n",
       "425                     0     0     0     0     0     0     0     0     0   \n",
       "1489                    0     0     0     0     0     0     0     0     0   \n",
       "\n",
       "col_0                20    21    25    251   1080  1118  5473  \n",
       "Has Online delivery                                            \n",
       "0                      55     4     0     0     0     0     0  \n",
       "1                       0     0     0     0     0     0     0  \n",
       "5                       1     0     0     0     0     0     0  \n",
       "6                       1     0     0     0     0     0     0  \n",
       "7                       4     0     0     0     0     0     0  \n",
       "8                       1     0     0     0     0     0     0  \n",
       "10                      2     0     1     0     0     0     0  \n",
       "11                      2     1     0     0     0     0     0  \n",
       "13                      1     0     0     0     0     0     0  \n",
       "35                      0     0     0     1     0     0     0  \n",
       "364                     0     0     0     0     1     0     0  \n",
       "425                     0     0     0     0     0     1     0  \n",
       "1489                    0     0     0     0     0     0     1  "
      ]
     },
     "execution_count": 55,
     "metadata": {},
     "output_type": "execute_result"
    }
   ],
   "source": [
    "restaurents_crosstab=pd.crosstab(restaurents_data_city_wise['Has Online delivery'],\n",
    "            restaurents_count_city_wise.values, \n",
    "            margins = False)\n",
    "restaurents_crosstab"
   ]
  },
  {
   "cell_type": "code",
   "execution_count": 56,
   "metadata": {},
   "outputs": [
    {
     "data": {
      "image/png": "[encoded data removed]",
      "text/plain": [
       "<Figure size 432x288 with 2 Axes>"
      ]
     },
     "metadata": {
      "needs_background": "light"
     },
     "output_type": "display_data"
    }
   ],
   "source": [
    "data1=\"Aggregate rating\"\n",
    "data2=\"Votes\"\n",
    "hb=plt.hexbin(restaurents_data[data1], \n",
    "           restaurents_data[data2], \n",
    "            gridsize = 10,\n",
    "           cmap ='Greens') \n",
    "plt.xlabel(data1)\n",
    "plt.ylabel(data2)\n",
    "cb = plt.colorbar(hb)\n",
    "plt.show()"
   ]
  },
  {
   "cell_type": "code",
   "execution_count": 57,
   "metadata": {},
   "outputs": [
    {
     "data": {
      "image/png": "[encoded data removed]",
      "text/plain": [
       "<Figure size 432x288 with 1 Axes>"
      ]
     },
     "metadata": {
      "needs_background": "light"
     },
     "output_type": "display_data"
    }
   ],
   "source": [
    "sns.kdeplot(data= restaurents_data, x=data1, y=data2,fill=True,levels=5)\n",
    "plt.xlabel(data1)\n",
    "plt.ylabel(data2)\n",
    "plt.show()"
   ]
  },
  {
   "cell_type": "code",
   "execution_count": 58,
   "metadata": {},
   "outputs": [
    {
     "data": {
      "text/plain": [
       "2.666"
      ]
     },
     "execution_count": 58,
     "metadata": {},
     "output_type": "execute_result"
    }
   ],
   "source": [
    "real_mean = round(restaurents_data['Aggregate rating'].mean(),3)\n",
    "real_mean"
   ]
  },
  {
   "cell_type": "code",
   "execution_count": 59,
   "metadata": {},
   "outputs": [],
   "source": [
    "#collecting random sample data\n",
    "sample_random_sample = restaurents_data.sample(n=1000).sort_index()\n",
    "\n",
    "\n"
   ]
  },
  {
   "cell_type": "code",
   "execution_count": 60,
   "metadata": {},
   "outputs": [
    {
     "data": {
      "text/plain": [
       "2.64"
      ]
     },
     "execution_count": 60,
     "metadata": {},
     "output_type": "execute_result"
    }
   ],
   "source": [
    "#storing sample mean to another var\n",
    "sample_random_mean = round(sample_random_sample['Aggregate rating'].mean(),3)\n",
    "\n",
    "sample_random_mean"
   ]
  },
  {
   "cell_type": "code",
   "execution_count": 61,
   "metadata": {},
   "outputs": [],
   "source": [
    "def systematic_sampling(df, step): \n",
    "    indexes = np.arange(0,len(df),step=step)\n",
    "    systematic_sample = df.iloc[indexes]\n",
    "    return systematic_sample"
   ]
  },
  {
   "cell_type": "code",
   "execution_count": 62,
   "metadata": {},
   "outputs": [],
   "source": [
    "#collecting systamatic sample data\n",
    "systematic_sample = systematic_sampling(restaurents_data, 10)"
   ]
  },
  {
   "cell_type": "code",
   "execution_count": 63,
   "metadata": {},
   "outputs": [
    {
     "data": {
      "text/plain": [
       "2.648"
      ]
     },
     "execution_count": 63,
     "metadata": {},
     "output_type": "execute_result"
    }
   ],
   "source": [
    "#storing sample mean to another var\n",
    "systematic_mean = round(systematic_sample['Aggregate rating'].mean(),3)\n",
    "systematic_mean"
   ]
  },
  {
   "cell_type": "code",
   "execution_count": 64,
   "metadata": {},
   "outputs": [],
   "source": [
    "outcomes = {'sample_mean':[sample_random_mean,systematic_mean],'population_mean':real_mean}"
   ]
  },
  {
   "cell_type": "code",
   "execution_count": 65,
   "metadata": {},
   "outputs": [],
   "source": [
    "# Transform dictionary into a data frame\n",
    "outcomes = pd.DataFrame(outcomes, index=['Simple Random Sampling','Systematic Sampling'])"
   ]
  },
  {
   "cell_type": "code",
   "execution_count": 66,
   "metadata": {},
   "outputs": [],
   "source": [
    "# Add a value corresponding to the absolute error\n",
    "outcomes['abs_error'] = abs(outcomes['population_mean'] - outcomes['sample_mean'])"
   ]
  },
  {
   "cell_type": "code",
   "execution_count": 67,
   "metadata": {},
   "outputs": [
    {
     "data": {
      "text/html": [
       "<div>\n",
       "<style scoped>\n",
       "    .dataframe tbody tr th:only-of-type {\n",
       "        vertical-align: middle;\n",
       "    }\n",
       "\n",
       "    .dataframe tbody tr th {\n",
       "        vertical-align: top;\n",
       "    }\n",
       "\n",
       "    .dataframe thead th {\n",
       "        text-align: right;\n",
       "    }\n",
       "</style>\n",
       "<table border=\"1\" class=\"dataframe\">\n",
       "  <thead>\n",
       "    <tr style=\"text-align: right;\">\n",
       "      <th></th>\n",
       "      <th>sample_mean</th>\n",
       "      <th>population_mean</th>\n",
       "      <th>abs_error</th>\n",
       "    </tr>\n",
       "  </thead>\n",
       "  <tbody>\n",
       "    <tr>\n",
       "      <th>Systematic Sampling</th>\n",
       "      <td>2.648</td>\n",
       "      <td>2.666</td>\n",
       "      <td>0.018</td>\n",
       "    </tr>\n",
       "    <tr>\n",
       "      <th>Simple Random Sampling</th>\n",
       "      <td>2.640</td>\n",
       "      <td>2.666</td>\n",
       "      <td>0.026</td>\n",
       "    </tr>\n",
       "  </tbody>\n",
       "</table>\n",
       "</div>"
      ],
      "text/plain": [
       "                        sample_mean  population_mean  abs_error\n",
       "Systematic Sampling           2.648            2.666      0.018\n",
       "Simple Random Sampling        2.640            2.666      0.026"
      ]
     },
     "execution_count": 67,
     "metadata": {},
     "output_type": "execute_result"
    }
   ],
   "source": [
    "# Sort data frame by absolute error\n",
    "outcomes.sort_values(by='abs_error')"
   ]
  },
  {
   "cell_type": "markdown",
   "metadata": {},
   "source": [
    "Central limit theorem"
   ]
  },
  {
   "cell_type": "code",
   "execution_count": 68,
   "metadata": {},
   "outputs": [],
   "source": [
    "data = restaurents_data[\"Aggregate rating\"]\n"
   ]
  },
  {
   "cell_type": "code",
   "execution_count": 69,
   "metadata": {},
   "outputs": [],
   "source": [
    "real_mean = round(data.mean(),3)"
   ]
  },
  {
   "cell_type": "code",
   "execution_count": 70,
   "metadata": {},
   "outputs": [],
   "source": [
    "# Size of samples\n",
    "num = [1, 10, 50, 100]\n",
    "means = []\n",
    "\n",
    "for j in num:\n",
    "    # Generate 1000 samples of size j from the height data\n",
    "    x = [round(data.sample(n=j).mean(), 3) for i in range(1000)]\n",
    "    means.append(x)"
   ]
  },
  {
   "cell_type": "code",
   "execution_count": 71,
   "metadata": {},
   "outputs": [
    {
     "data": {
      "image/png": "[encoded data removed]",
      "text/plain": [
       "<Figure size 720x720 with 4 Axes>"
      ]
     },
     "metadata": {
      "needs_background": "light"
     },
     "output_type": "display_data"
    }
   ],
   "source": [
    "k = 0\n",
    "fig, ax = plt.subplots(2, 2, figsize=(10, 10))\n",
    "bell = np.random.normal(size=10000)\n",
    "\n",
    "for i in range(0, 2):\n",
    "    for j in range(0, 2):\n",
    "        sns.histplot(data=means[k],ax=ax[i,j],kde=True,bins=20)\n",
    "        ax[i, j].set_title(label=\"Sample Size {x}\".format(x = num[k]))\n",
    "        k = k + 1"
   ]
  },
  {
   "cell_type": "markdown",
   "metadata": {},
   "source": [
    "Bootstrap on ”Aggragate rating” of reataurents"
   ]
  },
  {
   "cell_type": "code",
   "execution_count": 72,
   "metadata": {},
   "outputs": [],
   "source": [
    "number_of_samples=10000 # R times\n",
    "size_of_sample=300  # n\n",
    "sample_mean=[]\n",
    "for i in range(number_of_samples):\n",
    "    # Calulate mean for n samples\n",
    "    sample_mean.append(np.mean(np.random.choice(data,size_of_sample,replace=True)))"
   ]
  },
  {
   "cell_type": "code",
   "execution_count": 73,
   "metadata": {},
   "outputs": [
    {
     "name": "stdout",
     "output_type": "stream",
     "text": [
      "standard error :  0.000870859331669332\n"
     ]
    },
    {
     "data": {
      "image/png": "[encoded data removed]",
      "text/plain": [
       "<Figure size 432x288 with 1 Axes>"
      ]
     },
     "metadata": {
      "needs_background": "light"
     },
     "output_type": "display_data"
    }
   ],
   "source": [
    "_=plt.hist(sample_mean,bins=100)\n",
    "standard_error=np.std(sample_mean)/math.sqrt(len(sample_mean))\n",
    "print(\"standard error : \", standard_error)"
   ]
  },
  {
   "cell_type": "code",
   "execution_count": 74,
   "metadata": {},
   "outputs": [
    {
     "name": "stdout",
     "output_type": "stream",
     "text": [
      "Lower level : 2.494\n",
      "Upper level : 2.8333333333333335\n"
     ]
    }
   ],
   "source": [
    "# confidence interval\n",
    "\n",
    "CI=0.95\n",
    "sorted_means=np.sort(sample_mean)\n",
    "l=len(sorted_means)\n",
    "idx=math.floor(l*((1-CI)/2))\n",
    "\n",
    "print(\"Lower level :\", sorted_means[idx])\n",
    "print(\"Upper level :\", sorted_means[l-idx-1])"
   ]
  },
  {
   "cell_type": "code",
   "execution_count": 82,
   "metadata": {},
   "outputs": [],
   "source": [
    "restaurents_data_average_cost_for_two = restaurents_data[\"Average Cost for two\"].to_numpy()"
   ]
  },
  {
   "cell_type": "code",
   "execution_count": 83,
   "metadata": {},
   "outputs": [],
   "source": [
    "restaurents_data_average_cost_for_two = np.diff(np.log(restaurents_data_average_cost_for_two[restaurents_data_average_cost_for_two > 0]))\n",
    "restaurents_data_average_cost_for_two=(restaurents_data_average_cost_for_two - np.mean(restaurents_data_average_cost_for_two))/np.std(restaurents_data_average_cost_for_two)\n"
   ]
  },
  {
   "cell_type": "code",
   "execution_count": 84,
   "metadata": {},
   "outputs": [
    {
     "data": {
      "text/plain": [
       "Text(0.5, 0, 'z-score')"
      ]
     },
     "execution_count": 84,
     "metadata": {},
     "output_type": "execute_result"
    },
    {
     "data": {
      "image/png": "[encoded data removed]",
      "text/plain": [
       "<Figure size 432x288 with 1 Axes>"
      ]
     },
     "metadata": {
      "needs_background": "light"
     },
     "output_type": "display_data"
    }
   ],
   "source": [
    "sns.histplot(restaurents_data_average_cost_for_two,kde=True)\n",
    "plt.xlabel(\"z-score\")"
   ]
  },
  {
   "cell_type": "code",
   "execution_count": 85,
   "metadata": {},
   "outputs": [
    {
     "data": {
      "image/png": "[encoded data removed]",
      "text/plain": [
       "<Figure size 432x288 with 1 Axes>"
      ]
     },
     "metadata": {
      "needs_background": "light"
     },
     "output_type": "display_data"
    }
   ],
   "source": [
    "sm.qqplot(restaurents_data_average_cost_for_two, line ='45')\n",
    "py.show()"
   ]
  },
  {
   "cell_type": "code",
   "execution_count": 90,
   "metadata": {},
   "outputs": [
    {
     "name": "stdout",
     "output_type": "stream",
     "text": [
      "Mean Average Cost for two for New Delhi :  596.0880687008953\n",
      "Mean Average Cost for two for Gurgoan :  714.0161001788908\n",
      "Difference Between average of Average Cost for two :  -117.92803147799555\n"
     ]
    }
   ],
   "source": [
    "data = restaurents_data\n",
    "mean_a = data[data['City'] == 'New Delhi'][\"Average Cost for two\"].mean()\n",
    "mean_b = data[data['City'] == 'Gurgaon'][\"Average Cost for two\"].mean()\n",
    "\n",
    "\n",
    "print(\"Mean Average Cost for two for New Delhi : \", mean_a)\n",
    "print(\"Mean Average Cost for two for Gurgoan : \", mean_b)\n",
    "print(\"Difference Between average of Average Cost for two : \", mean_a - mean_b)"
   ]
  },
  {
   "cell_type": "markdown",
   "metadata": {},
   "source": [
    "t-test"
   ]
  },
  {
   "cell_type": "code",
   "execution_count": 92,
   "metadata": {},
   "outputs": [
    {
     "name": "stdout",
     "output_type": "stream",
     "text": [
      "The value of t : -5.8159\n",
      "The value for p for single sided test : 0.0000\n"
     ]
    }
   ],
   "source": [
    "result = stats.ttest_ind(data[data.City == 'New Delhi']['Average Cost for two'],data[data.City == 'Gurgaon']['Average Cost for two'],equal_var=False)\n",
    "print(f'The value of t : {result.statistic:.4f}')\n",
    "print(f'The value for p for single sided test : {result.pvalue / 2:.4f}')"
   ]
  }
 ],
 "metadata": {
  "interpreter": {
   "hash": "31f2aee4e71d21fbe5cf8b01ff0e069b9275f58929596ceb00d14d90e3e16cd6"
  },
  "kernelspec": {
   "display_name": "Python 3.6.9 64-bit",
   "language": "python",
   "name": "python3"
  },
  "language_info": {
   "codemirror_mode": {
    "name": "ipython",
    "version": 3
   },
   "file_extension": ".py",
   "mimetype": "text/x-python",
   "name": "python",
   "nbconvert_exporter": "python",
   "pygments_lexer": "ipython3",
   "version": "3.6.9"
  },
  "orig_nbformat": 4
 },
 "nbformat": 4,
 "nbformat_minor": 2
}
